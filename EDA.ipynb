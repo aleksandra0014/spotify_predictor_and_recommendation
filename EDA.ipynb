{
 "cells": [
  {
   "cell_type": "code",
   "execution_count": 102,
   "id": "initial_id",
   "metadata": {
    "collapsed": true,
    "ExecuteTime": {
     "end_time": "2024-05-10T17:15:21.044276200Z",
     "start_time": "2024-05-10T17:15:21.018346400Z"
    }
   },
   "outputs": [],
   "source": [
    "import pandas as pd \n",
    "from utilis import create_new_column"
   ]
  },
  {
   "cell_type": "code",
   "outputs": [
    {
     "name": "stdout",
     "output_type": "stream",
     "text": [
      "0\n",
      "1\n",
      "2\n",
      "3\n",
      "4\n",
      "5\n",
      "6\n",
      "7\n",
      "8\n",
      "9\n",
      "10\n"
     ]
    }
   ],
   "source": [
    "def create_dataset():\n",
    "    data = None\n",
    "    for i in range(11):\n",
    "        print(i)\n",
    "        try:\n",
    "            new_data = pd.read_csv(f'playlist{i}.csv')\n",
    "            new_data.dropna(inplace=True, subset=['other'])\n",
    "            create_new_column(new_data['other'],new_data)\n",
    "            if data is None:\n",
    "                data = new_data\n",
    "            else:\n",
    "                data = pd.concat([data,new_data])\n",
    "        except AttributeError:\n",
    "            print(f'Nie powiodło się z {i}')\n",
    "    \n",
    "    data.to_csv('spotify_dataset.csv')\n",
    "\n",
    "create_dataset()"
   ],
   "metadata": {
    "collapsed": false,
    "ExecuteTime": {
     "end_time": "2024-05-10T17:15:22.505523500Z",
     "start_time": "2024-05-10T17:15:22.246215Z"
    }
   },
   "id": "9a40c5d1706f52d8",
   "execution_count": 103
  },
  {
   "cell_type": "code",
   "outputs": [],
   "source": [],
   "metadata": {
    "collapsed": false
   },
   "id": "f5a49775358fa9db"
  }
 ],
 "metadata": {
  "kernelspec": {
   "display_name": "Python 3",
   "language": "python",
   "name": "python3"
  },
  "language_info": {
   "codemirror_mode": {
    "name": "ipython",
    "version": 2
   },
   "file_extension": ".py",
   "mimetype": "text/x-python",
   "name": "python",
   "nbconvert_exporter": "python",
   "pygments_lexer": "ipython2",
   "version": "2.7.6"
  }
 },
 "nbformat": 4,
 "nbformat_minor": 5
}
