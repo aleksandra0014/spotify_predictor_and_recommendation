{
 "cells": [
  {
   "cell_type": "code",
   "outputs": [],
   "source": [
    "from extracting_data import extract\n",
    "from utilis import change_date, change_genre\n",
    "import pandas as pd\n",
    "\n",
    "def change_string(x):\n",
    "    x = x.replace('{', '')\n",
    "    x = x.replace('}', '')\n",
    "    x = x.split(',')\n",
    "    return x\n",
    "\n",
    "\n",
    "def tranform_column(column):\n",
    "    d = column.apply(change_string)\n",
    "    list_of_dictionaries = []\n",
    "    for row in d:\n",
    "        data_dict = {}\n",
    "        for item in row:\n",
    "            item = item.replace(\"'\", \"\").strip()\n",
    "            key, value = item.split(':', 1)\n",
    "            data_dict[key.strip()] = value.strip()\n",
    "        list_of_dictionaries.append(data_dict)\n",
    "\n",
    "    return list_of_dictionaries\n",
    "\n",
    "\n",
    "def create_new_column(column, df):\n",
    "    l = tranform_column(column)\n",
    "\n",
    "    danceability = []\n",
    "    energy = []\n",
    "    loudness = []\n",
    "    speechiness = []\n",
    "    acousticness = []\n",
    "    instrumentalness = []\n",
    "    liveness = []\n",
    "    valence = []\n",
    "    tempo = []\n",
    "\n",
    "    for dic in l:\n",
    "        danceability.append(dic['danceability'])\n",
    "        energy.append(dic['energy'])\n",
    "        loudness.append(dic['loudness'])\n",
    "        speechiness.append(dic['speechiness'])\n",
    "        acousticness.append(dic['acousticness'])\n",
    "        instrumentalness.append(dic['instrumentalness'])\n",
    "        liveness.append(dic['liveness'])\n",
    "        valence.append(dic['valence'])\n",
    "        tempo.append(dic['tempo'])\n",
    "\n",
    "    df['danceability'] = danceability\n",
    "    df['energy'] = energy\n",
    "    df['loudness'] = loudness\n",
    "    df['speechiness'] = speechiness\n",
    "    df['acousticness'] = acousticness\n",
    "    df['instrumentalness'] = instrumentalness\n",
    "    df['liveness'] = liveness\n",
    "    df['valence'] = valence\n",
    "    df['tempo'] = tempo\n",
    "\n",
    "    df.drop(columns=['other'], inplace=True)\n",
    "\n",
    "    return df\n",
    "\n",
    "def get_playlist_data(file_name):\n",
    "    #extract(link, f'{file_name}.csv')\n",
    "    new_data = pd.read_csv(f'{file_name}.csv')\n",
    "    new_data.dropna(inplace=True, subset=['other'])\n",
    "    create_new_column(new_data['other'], new_data)\n",
    "    new_data.drop([new_data.columns[0]], axis=1, inplace=True)\n",
    "    new_data['year'] = new_data['release date'].apply(change_date)\n",
    "    new_data.drop(columns='release date', inplace=True)\n",
    "    new_data['track genre'].fillna('Inne', inplace=True)\n",
    "    new_data['new genre'] = new_data['track genre'].apply(change_genre)\n",
    "    new_data.drop(columns='track genre', inplace=True)\n",
    "    encoded_data = pd.get_dummies(new_data, columns=['new genre'], drop_first=True, dtype=int)\n",
    "    return encoded_data"
   ],
   "metadata": {
    "collapsed": false,
    "ExecuteTime": {
     "end_time": "2024-05-30T21:10:19.599746100Z",
     "start_time": "2024-05-30T21:10:19.541907400Z"
    }
   },
   "id": "e3d806b3397241d9",
   "execution_count": 94
  },
  {
   "cell_type": "code",
   "outputs": [
    {
     "name": "stderr",
     "output_type": "stream",
     "text": [
      "C:\\Users\\HP\\AppData\\Local\\Temp\\ipykernel_12472\\562266605.py:72: FutureWarning: A value is trying to be set on a copy of a DataFrame or Series through chained assignment using an inplace method.\n",
      "The behavior will change in pandas 3.0. This inplace method will never work because the intermediate object on which we are setting values always behaves as a copy.\n",
      "\n",
      "For example, when doing 'df[col].method(value, inplace=True)', try using 'df.method({col: value}, inplace=True)' or df[col] = df[col].method(value) instead, to perform the operation inplace on the original object.\n",
      "\n",
      "\n",
      "  new_data['track genre'].fillna('Inne', inplace=True)\n"
     ]
    }
   ],
   "source": [
    "playlist = get_playlist_data('test')"
   ],
   "metadata": {
    "collapsed": false,
    "ExecuteTime": {
     "end_time": "2024-05-30T21:10:20.309851Z",
     "start_time": "2024-05-30T21:10:20.166235300Z"
    }
   },
   "id": "c0f9a8f592e5a6af",
   "execution_count": 95
  },
  {
   "cell_type": "code",
   "outputs": [
    {
     "data": {
      "text/plain": "                        track               artist                      album  \\\n0            Beautiful Things         Benson Boone           Beautiful Things   \n1                Cruel Summer         Taylor Swift                      Lover   \n2                      greedy           Tate McRae                     greedy   \n3                   Unwritten  Natasha Bedingfield                  Unwritten   \n4                Stick Season           Noah Kahan               Stick Season   \n..                        ...                  ...                        ...   \n95                Tongue Tied            GROUPLOVE   Never Trust a Happy Song   \n96                 Last Night        Morgan Wallen  3 Songs At A Time Sampler   \n97  STAY (with Justin Bieber)        The Kid LAROI  STAY (with Justin Bieber)   \n98                      Karma         Taylor Swift                  Midnights   \n99                 High Hopes  Panic! At The Disco        Pray for the Wicked   \n\n    artist pop  track pop  duration danceability energy loudness speechiness  \\\n0           84         95    180304        0.472  0.471   -5.692      0.0603   \n1          100         94    178426        0.552  0.702   -5.707       0.157   \n2           81         93    131872        0.749  0.729    -3.19      0.0321   \n3           74          1    259333        0.706    0.8   -6.333      0.0399   \n4           83         92    182346        0.664    0.5   -6.935      0.0651   \n..         ...        ...       ...          ...    ...      ...         ...   \n95          63         81    218013         0.56  0.936   -5.835      0.0439   \n96          88         81    163854        0.492  0.673   -5.431      0.0347   \n97          76         81    141805        0.591  0.764   -5.484      0.0483   \n98         100         81    204852         0.64  0.619   -7.108       0.065   \n99          74         81    190946        0.579  0.904   -2.729      0.0618   \n\n    ... valence    tempo  year new genre_hip hop new genre_indie  \\\n0   ...   0.219  105.029  2024                 0               0   \n1   ...   0.564  169.994  2019                 0               0   \n2   ...   0.816  111.004  2023                 0               0   \n3   ...   0.629  100.011  2004                 0               0   \n4   ...   0.801  117.896  2022                 0               1   \n..  ...     ...      ...   ...               ...             ...   \n95  ...   0.371   112.96  2011                 0               0   \n96  ...   0.488  203.812  2023                 0               0   \n97  ...   0.478  169.928  2021                 1               0   \n98  ...   0.121   90.008  2022                 0               0   \n99  ...   0.681   82.014  2018                 0               0   \n\n    new genre_other  new genre_pop  new genre_rap  new genre_rock  \\\n0                 0              1              0               0   \n1                 0              1              0               0   \n2                 0              1              0               0   \n3                 0              1              0               0   \n4                 0              0              0               0   \n..              ...            ...            ...             ...   \n95                0              0              0               1   \n96                1              0              0               0   \n97                0              0              0               0   \n98                0              1              0               0   \n99                0              1              0               0   \n\n    new genre_soul  \n0                0  \n1                0  \n2                0  \n3                0  \n4                0  \n..             ...  \n95               0  \n96               0  \n97               0  \n98               0  \n99               0  \n\n[100 rows x 23 columns]",
      "text/html": "<div>\n<style scoped>\n    .dataframe tbody tr th:only-of-type {\n        vertical-align: middle;\n    }\n\n    .dataframe tbody tr th {\n        vertical-align: top;\n    }\n\n    .dataframe thead th {\n        text-align: right;\n    }\n</style>\n<table border=\"1\" class=\"dataframe\">\n  <thead>\n    <tr style=\"text-align: right;\">\n      <th></th>\n      <th>track</th>\n      <th>artist</th>\n      <th>album</th>\n      <th>artist pop</th>\n      <th>track pop</th>\n      <th>duration</th>\n      <th>danceability</th>\n      <th>energy</th>\n      <th>loudness</th>\n      <th>speechiness</th>\n      <th>...</th>\n      <th>valence</th>\n      <th>tempo</th>\n      <th>year</th>\n      <th>new genre_hip hop</th>\n      <th>new genre_indie</th>\n      <th>new genre_other</th>\n      <th>new genre_pop</th>\n      <th>new genre_rap</th>\n      <th>new genre_rock</th>\n      <th>new genre_soul</th>\n    </tr>\n  </thead>\n  <tbody>\n    <tr>\n      <th>0</th>\n      <td>Beautiful Things</td>\n      <td>Benson Boone</td>\n      <td>Beautiful Things</td>\n      <td>84</td>\n      <td>95</td>\n      <td>180304</td>\n      <td>0.472</td>\n      <td>0.471</td>\n      <td>-5.692</td>\n      <td>0.0603</td>\n      <td>...</td>\n      <td>0.219</td>\n      <td>105.029</td>\n      <td>2024</td>\n      <td>0</td>\n      <td>0</td>\n      <td>0</td>\n      <td>1</td>\n      <td>0</td>\n      <td>0</td>\n      <td>0</td>\n    </tr>\n    <tr>\n      <th>1</th>\n      <td>Cruel Summer</td>\n      <td>Taylor Swift</td>\n      <td>Lover</td>\n      <td>100</td>\n      <td>94</td>\n      <td>178426</td>\n      <td>0.552</td>\n      <td>0.702</td>\n      <td>-5.707</td>\n      <td>0.157</td>\n      <td>...</td>\n      <td>0.564</td>\n      <td>169.994</td>\n      <td>2019</td>\n      <td>0</td>\n      <td>0</td>\n      <td>0</td>\n      <td>1</td>\n      <td>0</td>\n      <td>0</td>\n      <td>0</td>\n    </tr>\n    <tr>\n      <th>2</th>\n      <td>greedy</td>\n      <td>Tate McRae</td>\n      <td>greedy</td>\n      <td>81</td>\n      <td>93</td>\n      <td>131872</td>\n      <td>0.749</td>\n      <td>0.729</td>\n      <td>-3.19</td>\n      <td>0.0321</td>\n      <td>...</td>\n      <td>0.816</td>\n      <td>111.004</td>\n      <td>2023</td>\n      <td>0</td>\n      <td>0</td>\n      <td>0</td>\n      <td>1</td>\n      <td>0</td>\n      <td>0</td>\n      <td>0</td>\n    </tr>\n    <tr>\n      <th>3</th>\n      <td>Unwritten</td>\n      <td>Natasha Bedingfield</td>\n      <td>Unwritten</td>\n      <td>74</td>\n      <td>1</td>\n      <td>259333</td>\n      <td>0.706</td>\n      <td>0.8</td>\n      <td>-6.333</td>\n      <td>0.0399</td>\n      <td>...</td>\n      <td>0.629</td>\n      <td>100.011</td>\n      <td>2004</td>\n      <td>0</td>\n      <td>0</td>\n      <td>0</td>\n      <td>1</td>\n      <td>0</td>\n      <td>0</td>\n      <td>0</td>\n    </tr>\n    <tr>\n      <th>4</th>\n      <td>Stick Season</td>\n      <td>Noah Kahan</td>\n      <td>Stick Season</td>\n      <td>83</td>\n      <td>92</td>\n      <td>182346</td>\n      <td>0.664</td>\n      <td>0.5</td>\n      <td>-6.935</td>\n      <td>0.0651</td>\n      <td>...</td>\n      <td>0.801</td>\n      <td>117.896</td>\n      <td>2022</td>\n      <td>0</td>\n      <td>1</td>\n      <td>0</td>\n      <td>0</td>\n      <td>0</td>\n      <td>0</td>\n      <td>0</td>\n    </tr>\n    <tr>\n      <th>...</th>\n      <td>...</td>\n      <td>...</td>\n      <td>...</td>\n      <td>...</td>\n      <td>...</td>\n      <td>...</td>\n      <td>...</td>\n      <td>...</td>\n      <td>...</td>\n      <td>...</td>\n      <td>...</td>\n      <td>...</td>\n      <td>...</td>\n      <td>...</td>\n      <td>...</td>\n      <td>...</td>\n      <td>...</td>\n      <td>...</td>\n      <td>...</td>\n      <td>...</td>\n      <td>...</td>\n    </tr>\n    <tr>\n      <th>95</th>\n      <td>Tongue Tied</td>\n      <td>GROUPLOVE</td>\n      <td>Never Trust a Happy Song</td>\n      <td>63</td>\n      <td>81</td>\n      <td>218013</td>\n      <td>0.56</td>\n      <td>0.936</td>\n      <td>-5.835</td>\n      <td>0.0439</td>\n      <td>...</td>\n      <td>0.371</td>\n      <td>112.96</td>\n      <td>2011</td>\n      <td>0</td>\n      <td>0</td>\n      <td>0</td>\n      <td>0</td>\n      <td>0</td>\n      <td>1</td>\n      <td>0</td>\n    </tr>\n    <tr>\n      <th>96</th>\n      <td>Last Night</td>\n      <td>Morgan Wallen</td>\n      <td>3 Songs At A Time Sampler</td>\n      <td>88</td>\n      <td>81</td>\n      <td>163854</td>\n      <td>0.492</td>\n      <td>0.673</td>\n      <td>-5.431</td>\n      <td>0.0347</td>\n      <td>...</td>\n      <td>0.488</td>\n      <td>203.812</td>\n      <td>2023</td>\n      <td>0</td>\n      <td>0</td>\n      <td>1</td>\n      <td>0</td>\n      <td>0</td>\n      <td>0</td>\n      <td>0</td>\n    </tr>\n    <tr>\n      <th>97</th>\n      <td>STAY (with Justin Bieber)</td>\n      <td>The Kid LAROI</td>\n      <td>STAY (with Justin Bieber)</td>\n      <td>76</td>\n      <td>81</td>\n      <td>141805</td>\n      <td>0.591</td>\n      <td>0.764</td>\n      <td>-5.484</td>\n      <td>0.0483</td>\n      <td>...</td>\n      <td>0.478</td>\n      <td>169.928</td>\n      <td>2021</td>\n      <td>1</td>\n      <td>0</td>\n      <td>0</td>\n      <td>0</td>\n      <td>0</td>\n      <td>0</td>\n      <td>0</td>\n    </tr>\n    <tr>\n      <th>98</th>\n      <td>Karma</td>\n      <td>Taylor Swift</td>\n      <td>Midnights</td>\n      <td>100</td>\n      <td>81</td>\n      <td>204852</td>\n      <td>0.64</td>\n      <td>0.619</td>\n      <td>-7.108</td>\n      <td>0.065</td>\n      <td>...</td>\n      <td>0.121</td>\n      <td>90.008</td>\n      <td>2022</td>\n      <td>0</td>\n      <td>0</td>\n      <td>0</td>\n      <td>1</td>\n      <td>0</td>\n      <td>0</td>\n      <td>0</td>\n    </tr>\n    <tr>\n      <th>99</th>\n      <td>High Hopes</td>\n      <td>Panic! At The Disco</td>\n      <td>Pray for the Wicked</td>\n      <td>74</td>\n      <td>81</td>\n      <td>190946</td>\n      <td>0.579</td>\n      <td>0.904</td>\n      <td>-2.729</td>\n      <td>0.0618</td>\n      <td>...</td>\n      <td>0.681</td>\n      <td>82.014</td>\n      <td>2018</td>\n      <td>0</td>\n      <td>0</td>\n      <td>0</td>\n      <td>1</td>\n      <td>0</td>\n      <td>0</td>\n      <td>0</td>\n    </tr>\n  </tbody>\n</table>\n<p>100 rows × 23 columns</p>\n</div>"
     },
     "execution_count": 121,
     "metadata": {},
     "output_type": "execute_result"
    }
   ],
   "source": [
    "playlist"
   ],
   "metadata": {
    "collapsed": false,
    "ExecuteTime": {
     "end_time": "2024-05-30T21:42:17.566892200Z",
     "start_time": "2024-05-30T21:42:17.488104Z"
    }
   },
   "id": "42e899e34fcd2bed",
   "execution_count": 121
  },
  {
   "cell_type": "code",
   "outputs": [],
   "source": [
    "playlist_num = playlist.drop(columns=['artist', 'album', 'track'])"
   ],
   "metadata": {
    "collapsed": false,
    "ExecuteTime": {
     "end_time": "2024-05-30T21:10:21.100734400Z",
     "start_time": "2024-05-30T21:10:21.071810400Z"
    }
   },
   "id": "682f64a10d72b283",
   "execution_count": 96
  },
  {
   "cell_type": "code",
   "outputs": [],
   "source": [
    "from sklearn.preprocessing import MinMaxScaler\n",
    "\n",
    "def scale_data(data, column_names):\n",
    "    df = pd.DataFrame(data, columns=column_names)\n",
    "    scaler = MinMaxScaler()\n",
    "    scaled_data = scaler.fit_transform(df)\n",
    "    scaled_df = pd.DataFrame(scaled_data, columns=column_names)\n",
    "    return scaled_df"
   ],
   "metadata": {
    "collapsed": false,
    "ExecuteTime": {
     "end_time": "2024-05-30T21:39:22.916281Z",
     "start_time": "2024-05-30T21:39:22.890350400Z"
    }
   },
   "id": "4f2a2b8df09a7703",
   "execution_count": 117
  },
  {
   "cell_type": "code",
   "outputs": [],
   "source": [
    "scaled_playlist = scale_data(data=playlist_num, column_names=playlist_num.columns)"
   ],
   "metadata": {
    "collapsed": false,
    "ExecuteTime": {
     "end_time": "2024-05-30T21:39:23.514679Z",
     "start_time": "2024-05-30T21:39:23.484761600Z"
    }
   },
   "id": "2f8ceb24483c685",
   "execution_count": 118
  },
  {
   "cell_type": "code",
   "outputs": [],
   "source": [
    "spotify_data = pd.read_csv('spotify_data_encoded2.csv')\n",
    "spotify_data.drop([spotify_data.columns[0]], axis=1, inplace=True)\n",
    "spotify_data_num = spotify_data.drop(columns=['track', 'artist', 'album'])\n",
    "spotify_data_scaled = scale_data(spotify_data_num, spotify_data_num.columns)"
   ],
   "metadata": {
    "collapsed": false,
    "ExecuteTime": {
     "end_time": "2024-05-30T21:39:33.940794300Z",
     "start_time": "2024-05-30T21:39:33.859012800Z"
    }
   },
   "id": "16fe1d102f372fa6",
   "execution_count": 119
  },
  {
   "cell_type": "markdown",
   "source": [
    "# Liczenie średnich wartości"
   ],
   "metadata": {
    "collapsed": false
   },
   "id": "a9645255f33e24fc"
  },
  {
   "cell_type": "code",
   "outputs": [
    {
     "data": {
      "text/plain": "         artist pop  track pop  duration  danceability    energy  loudness  \\\nAverage    0.474865   0.882766  0.405921      0.570971  0.593017  0.695442   \n\n         speechiness  acousticness  instrumentalness  liveness   valence  \\\nAverage     0.101508      0.228562          0.043075  0.189823  0.564036   \n\n           tempo     year  new genre_hip hop  new genre_indie  \\\nAverage  0.37681  0.77766               0.07             0.02   \n\n         new genre_other  new genre_pop  new genre_rap  new genre_rock  \\\nAverage             0.15           0.59           0.02            0.13   \n\n         new genre_soul  \nAverage            0.01  ",
      "text/html": "<div>\n<style scoped>\n    .dataframe tbody tr th:only-of-type {\n        vertical-align: middle;\n    }\n\n    .dataframe tbody tr th {\n        vertical-align: top;\n    }\n\n    .dataframe thead th {\n        text-align: right;\n    }\n</style>\n<table border=\"1\" class=\"dataframe\">\n  <thead>\n    <tr style=\"text-align: right;\">\n      <th></th>\n      <th>artist pop</th>\n      <th>track pop</th>\n      <th>duration</th>\n      <th>danceability</th>\n      <th>energy</th>\n      <th>loudness</th>\n      <th>speechiness</th>\n      <th>acousticness</th>\n      <th>instrumentalness</th>\n      <th>liveness</th>\n      <th>valence</th>\n      <th>tempo</th>\n      <th>year</th>\n      <th>new genre_hip hop</th>\n      <th>new genre_indie</th>\n      <th>new genre_other</th>\n      <th>new genre_pop</th>\n      <th>new genre_rap</th>\n      <th>new genre_rock</th>\n      <th>new genre_soul</th>\n    </tr>\n  </thead>\n  <tbody>\n    <tr>\n      <th>Average</th>\n      <td>0.474865</td>\n      <td>0.882766</td>\n      <td>0.405921</td>\n      <td>0.570971</td>\n      <td>0.593017</td>\n      <td>0.695442</td>\n      <td>0.101508</td>\n      <td>0.228562</td>\n      <td>0.043075</td>\n      <td>0.189823</td>\n      <td>0.564036</td>\n      <td>0.37681</td>\n      <td>0.77766</td>\n      <td>0.07</td>\n      <td>0.02</td>\n      <td>0.15</td>\n      <td>0.59</td>\n      <td>0.02</td>\n      <td>0.13</td>\n      <td>0.01</td>\n    </tr>\n  </tbody>\n</table>\n</div>"
     },
     "execution_count": 120,
     "metadata": {},
     "output_type": "execute_result"
    }
   ],
   "source": [
    "column_averages = scaled_playlist.mean()\n",
    "averages_cosine_sim = pd.DataFrame([column_averages], index=['Average'])\n",
    "averages_cosine_sim"
   ],
   "metadata": {
    "collapsed": false,
    "ExecuteTime": {
     "end_time": "2024-05-30T21:39:35.807801600Z",
     "start_time": "2024-05-30T21:39:35.655207400Z"
    }
   },
   "id": "ddd6ae4093166f13",
   "execution_count": 120
  },
  {
   "cell_type": "code",
   "outputs": [],
   "source": [
    "def synchronize_columns(df1, df2):\n",
    "    # Znajdź kolumny, które są w df1, ale nie ma ich w df2\n",
    "    missing_in_df2 = set(df1.columns) - set(df2.columns)\n",
    "    # Znajdź kolumny, które są w df2, ale nie ma ich w df1\n",
    "    missing_in_df1 = set(df2.columns) - set(df1.columns)\n",
    "    \n",
    "    # Dodaj brakujące kolumny do df2, wypełniając je zerami\n",
    "    for col in missing_in_df2:\n",
    "        df2[col] = 0\n",
    "        \n",
    "    # Dodaj brakujące kolumny do df1, wypełniając je zerami\n",
    "    for col in missing_in_df1:\n",
    "        df1[col] = 0\n",
    "        \n",
    "    # Upewnij się, że kolumny są w tej samej kolejności\n",
    "    df1 = df1[sorted(df1.columns)]\n",
    "    df2 = df2[sorted(df2.columns)]\n",
    "    \n",
    "    return df1, df2"
   ],
   "metadata": {
    "collapsed": false,
    "ExecuteTime": {
     "end_time": "2024-05-30T21:50:28.437657600Z",
     "start_time": "2024-05-30T21:50:28.422697100Z"
    }
   },
   "id": "5df72737bb4bf53c",
   "execution_count": 126
  },
  {
   "cell_type": "code",
   "outputs": [],
   "source": [
    "synchronize_columns(spotify_data_scaled, averages_cosine_sim)\n",
    "averages_cosine_sim = averages_cosine_sim.sort_index(axis=1)\n",
    "spotify_data_scaled = spotify_data_scaled.sort_index(axis=1)"
   ],
   "metadata": {
    "collapsed": false,
    "ExecuteTime": {
     "end_time": "2024-05-30T21:52:02.516626500Z",
     "start_time": "2024-05-30T21:52:02.456788400Z"
    }
   },
   "id": "3dafc3c5981255e1",
   "execution_count": 130
  },
  {
   "cell_type": "code",
   "outputs": [
    {
     "data": {
      "text/plain": "         artist pop  track pop  duration  danceability    energy  loudness  \\\nAverage    0.474865   0.882766  0.405921      0.570971  0.593017  0.695442   \n\n         speechiness  acousticness  instrumentalness  liveness  ...  \\\nAverage     0.101508      0.228562          0.043075  0.189823  ...   \n\n         new genre_other  new genre_pop  new genre_rap  new genre_rock  \\\nAverage             0.15           0.59           0.02            0.13   \n\n         new genre_soul  new genre_dance  new genre_folk  new genre_classical  \\\nAverage            0.01                0               0                    0   \n\n         new genre_jazz  new genre_metal  \nAverage               0                0  \n\n[1 rows x 25 columns]",
      "text/html": "<div>\n<style scoped>\n    .dataframe tbody tr th:only-of-type {\n        vertical-align: middle;\n    }\n\n    .dataframe tbody tr th {\n        vertical-align: top;\n    }\n\n    .dataframe thead th {\n        text-align: right;\n    }\n</style>\n<table border=\"1\" class=\"dataframe\">\n  <thead>\n    <tr style=\"text-align: right;\">\n      <th></th>\n      <th>artist pop</th>\n      <th>track pop</th>\n      <th>duration</th>\n      <th>danceability</th>\n      <th>energy</th>\n      <th>loudness</th>\n      <th>speechiness</th>\n      <th>acousticness</th>\n      <th>instrumentalness</th>\n      <th>liveness</th>\n      <th>...</th>\n      <th>new genre_other</th>\n      <th>new genre_pop</th>\n      <th>new genre_rap</th>\n      <th>new genre_rock</th>\n      <th>new genre_soul</th>\n      <th>new genre_dance</th>\n      <th>new genre_folk</th>\n      <th>new genre_classical</th>\n      <th>new genre_jazz</th>\n      <th>new genre_metal</th>\n    </tr>\n  </thead>\n  <tbody>\n    <tr>\n      <th>Average</th>\n      <td>0.474865</td>\n      <td>0.882766</td>\n      <td>0.405921</td>\n      <td>0.570971</td>\n      <td>0.593017</td>\n      <td>0.695442</td>\n      <td>0.101508</td>\n      <td>0.228562</td>\n      <td>0.043075</td>\n      <td>0.189823</td>\n      <td>...</td>\n      <td>0.15</td>\n      <td>0.59</td>\n      <td>0.02</td>\n      <td>0.13</td>\n      <td>0.01</td>\n      <td>0</td>\n      <td>0</td>\n      <td>0</td>\n      <td>0</td>\n      <td>0</td>\n    </tr>\n  </tbody>\n</table>\n<p>1 rows × 25 columns</p>\n</div>"
     },
     "execution_count": 129,
     "metadata": {},
     "output_type": "execute_result"
    }
   ],
   "source": [
    "averages_cosine_sim"
   ],
   "metadata": {
    "collapsed": false,
    "ExecuteTime": {
     "end_time": "2024-05-30T21:51:10.545337300Z",
     "start_time": "2024-05-30T21:51:10.422666300Z"
    }
   },
   "id": "7a4947351b27244e",
   "execution_count": 129
  },
  {
   "cell_type": "code",
   "outputs": [
    {
     "data": {
      "text/plain": "                                                  track           artist_x  \\\n1558            Rockabye (feat. Sean Paul & Anne-Marie)       Clean Bandit   \n68                                              TiK ToK              Kesha   \n1161                I Took A Pill In Ibiza - Seeb Remix        Mike Posner   \n67                                            Bang Bang           Jessie J   \n1042                  Stereo Hearts (feat. Adam Levine)   Gym Class Heroes   \n51                                              Classic               MKTO   \n1153                    There's Nothing Holdin' Me Back       Shawn Mendes   \n38    These Days (feat. Jess Glynne, Macklemore & Da...         Rudimental   \n22    CAN'T STOP THE FEELING! (from DreamWorks Anima...  Justin Timberlake   \n1515                                          Starships        Nicki Minaj   \n1534                                Dear Future Husband     Meghan Trainor   \n30                                              Pompeii           Bastille   \n58                                           Wake Me Up             Avicii   \n1400                                      Electric Love              BØRNS   \n920                         Girls Just Want to Have Fun       Cyndi Lauper   \n1423                                           Nonsense  Sabrina Carpenter   \n25                        Rather Be (feat. Jess Glynne)       Clean Bandit   \n1383                                 Boy's a liar Pt. 2     PinkPantheress   \n1439                                               2002         Anne-Marie   \n1805                                    Teenage Dirtbag            Wheatus   \n\n      similarity_score  \n1558          0.973744  \n68            0.970373  \n1161          0.969824  \n67            0.969438  \n1042          0.968979  \n51            0.968912  \n1153          0.968827  \n38            0.968677  \n22            0.968482  \n1515          0.968181  \n1534          0.967770  \n30            0.967761  \n58            0.967375  \n1400          0.967298  \n920           0.966703  \n1423          0.966490  \n25            0.966475  \n1383          0.966452  \n1439          0.966399  \n1805          0.966031  ",
      "text/html": "<div>\n<style scoped>\n    .dataframe tbody tr th:only-of-type {\n        vertical-align: middle;\n    }\n\n    .dataframe tbody tr th {\n        vertical-align: top;\n    }\n\n    .dataframe thead th {\n        text-align: right;\n    }\n</style>\n<table border=\"1\" class=\"dataframe\">\n  <thead>\n    <tr style=\"text-align: right;\">\n      <th></th>\n      <th>track</th>\n      <th>artist_x</th>\n      <th>similarity_score</th>\n    </tr>\n  </thead>\n  <tbody>\n    <tr>\n      <th>1558</th>\n      <td>Rockabye (feat. Sean Paul &amp; Anne-Marie)</td>\n      <td>Clean Bandit</td>\n      <td>0.973744</td>\n    </tr>\n    <tr>\n      <th>68</th>\n      <td>TiK ToK</td>\n      <td>Kesha</td>\n      <td>0.970373</td>\n    </tr>\n    <tr>\n      <th>1161</th>\n      <td>I Took A Pill In Ibiza - Seeb Remix</td>\n      <td>Mike Posner</td>\n      <td>0.969824</td>\n    </tr>\n    <tr>\n      <th>67</th>\n      <td>Bang Bang</td>\n      <td>Jessie J</td>\n      <td>0.969438</td>\n    </tr>\n    <tr>\n      <th>1042</th>\n      <td>Stereo Hearts (feat. Adam Levine)</td>\n      <td>Gym Class Heroes</td>\n      <td>0.968979</td>\n    </tr>\n    <tr>\n      <th>51</th>\n      <td>Classic</td>\n      <td>MKTO</td>\n      <td>0.968912</td>\n    </tr>\n    <tr>\n      <th>1153</th>\n      <td>There's Nothing Holdin' Me Back</td>\n      <td>Shawn Mendes</td>\n      <td>0.968827</td>\n    </tr>\n    <tr>\n      <th>38</th>\n      <td>These Days (feat. Jess Glynne, Macklemore &amp; Da...</td>\n      <td>Rudimental</td>\n      <td>0.968677</td>\n    </tr>\n    <tr>\n      <th>22</th>\n      <td>CAN'T STOP THE FEELING! (from DreamWorks Anima...</td>\n      <td>Justin Timberlake</td>\n      <td>0.968482</td>\n    </tr>\n    <tr>\n      <th>1515</th>\n      <td>Starships</td>\n      <td>Nicki Minaj</td>\n      <td>0.968181</td>\n    </tr>\n    <tr>\n      <th>1534</th>\n      <td>Dear Future Husband</td>\n      <td>Meghan Trainor</td>\n      <td>0.967770</td>\n    </tr>\n    <tr>\n      <th>30</th>\n      <td>Pompeii</td>\n      <td>Bastille</td>\n      <td>0.967761</td>\n    </tr>\n    <tr>\n      <th>58</th>\n      <td>Wake Me Up</td>\n      <td>Avicii</td>\n      <td>0.967375</td>\n    </tr>\n    <tr>\n      <th>1400</th>\n      <td>Electric Love</td>\n      <td>BØRNS</td>\n      <td>0.967298</td>\n    </tr>\n    <tr>\n      <th>920</th>\n      <td>Girls Just Want to Have Fun</td>\n      <td>Cyndi Lauper</td>\n      <td>0.966703</td>\n    </tr>\n    <tr>\n      <th>1423</th>\n      <td>Nonsense</td>\n      <td>Sabrina Carpenter</td>\n      <td>0.966490</td>\n    </tr>\n    <tr>\n      <th>25</th>\n      <td>Rather Be (feat. Jess Glynne)</td>\n      <td>Clean Bandit</td>\n      <td>0.966475</td>\n    </tr>\n    <tr>\n      <th>1383</th>\n      <td>Boy's a liar Pt. 2</td>\n      <td>PinkPantheress</td>\n      <td>0.966452</td>\n    </tr>\n    <tr>\n      <th>1439</th>\n      <td>2002</td>\n      <td>Anne-Marie</td>\n      <td>0.966399</td>\n    </tr>\n    <tr>\n      <th>1805</th>\n      <td>Teenage Dirtbag</td>\n      <td>Wheatus</td>\n      <td>0.966031</td>\n    </tr>\n  </tbody>\n</table>\n</div>"
     },
     "execution_count": 168,
     "metadata": {},
     "output_type": "execute_result"
    }
   ],
   "source": [
    "from sklearn.metrics.pairwise import cosine_similarity\n",
    "\n",
    "similarity_scores = cosine_similarity(spotify_data_scaled, averages_cosine_sim)\n",
    " \n",
    "spotify_data['similarity_score'] = similarity_scores\n",
    " \n",
    "new_frame = pd.merge(spotify_data, playlist, how='left', on='track')\n",
    "top_similarities_filtered = new_frame[new_frame.isna().any(axis=1)]\n",
    "top_similarities_filtered = top_similarities_filtered.sort_values(by='similarity_score', ascending=False)\n",
    "top_similarities_filtered = top_similarities_filtered.drop_duplicates(subset=['track', 'artist_x'])\n",
    "top_similarities_filtered[['track', 'artist_x', 'similarity_score']].head(20)\n"
   ],
   "metadata": {
    "collapsed": false,
    "ExecuteTime": {
     "end_time": "2024-05-30T22:20:24.858859Z",
     "start_time": "2024-05-30T22:20:24.639445500Z"
    }
   },
   "id": "7464010d34d64475",
   "execution_count": 168
  }
 ],
 "metadata": {
  "kernelspec": {
   "display_name": "Python 3",
   "language": "python",
   "name": "python3"
  },
  "language_info": {
   "codemirror_mode": {
    "name": "ipython",
    "version": 2
   },
   "file_extension": ".py",
   "mimetype": "text/x-python",
   "name": "python",
   "nbconvert_exporter": "python",
   "pygments_lexer": "ipython2",
   "version": "2.7.6"
  }
 },
 "nbformat": 4,
 "nbformat_minor": 5
}
