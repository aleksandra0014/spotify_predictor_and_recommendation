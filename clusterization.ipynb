{
 "cells": [
  {
   "cell_type": "code",
   "outputs": [],
   "source": [
    "from extracting_data import extract\n",
    "from utilis import change_date, change_genre\n",
    "import pandas as pd\n",
    "\n",
    "def change_string(x):\n",
    "    x = x.replace('{', '')\n",
    "    x = x.replace('}', '')\n",
    "    x = x.split(',')\n",
    "    return x\n",
    "\n",
    "\n",
    "def tranform_column(column):\n",
    "    d = column.apply(change_string)\n",
    "    list_of_dictionaries = []\n",
    "    for row in d:\n",
    "        data_dict = {}\n",
    "        for item in row:\n",
    "            item = item.replace(\"'\", \"\").strip()\n",
    "            key, value = item.split(':', 1)\n",
    "            data_dict[key.strip()] = value.strip()\n",
    "        list_of_dictionaries.append(data_dict)\n",
    "\n",
    "    return list_of_dictionaries\n",
    "\n",
    "\n",
    "def create_new_column(column, df):\n",
    "    l = tranform_column(column)\n",
    "\n",
    "    danceability = []\n",
    "    energy = []\n",
    "    loudness = []\n",
    "    speechiness = []\n",
    "    acousticness = []\n",
    "    instrumentalness = []\n",
    "    liveness = []\n",
    "    valence = []\n",
    "    tempo = []\n",
    "\n",
    "    for dic in l:\n",
    "        danceability.append(dic['danceability'])\n",
    "        energy.append(dic['energy'])\n",
    "        loudness.append(dic['loudness'])\n",
    "        speechiness.append(dic['speechiness'])\n",
    "        acousticness.append(dic['acousticness'])\n",
    "        instrumentalness.append(dic['instrumentalness'])\n",
    "        liveness.append(dic['liveness'])\n",
    "        valence.append(dic['valence'])\n",
    "        tempo.append(dic['tempo'])\n",
    "\n",
    "    df['danceability'] = danceability\n",
    "    df['energy'] = energy\n",
    "    df['loudness'] = loudness\n",
    "    df['speechiness'] = speechiness\n",
    "    df['acousticness'] = acousticness\n",
    "    df['instrumentalness'] = instrumentalness\n",
    "    df['liveness'] = liveness\n",
    "    df['valence'] = valence\n",
    "    df['tempo'] = tempo\n",
    "\n",
    "    df.drop(columns=['other'], inplace=True)\n",
    "\n",
    "    return df\n",
    "\n",
    "def get_playlist_data(file_name): # tu będziemy otrzymać encodowane dane do rekomendacji i new_data czyli dane bez encodowania, które będą przydatne podczas analizy playlisty \n",
    "    #extract(link, f'{file_name}.csv')\n",
    "    new_data = pd.read_csv(f'{file_name}.csv')\n",
    "    new_data.dropna(inplace=True, subset=['other'])\n",
    "    create_new_column(new_data['other'], new_data)\n",
    "    new_data.drop([new_data.columns[0]], axis=1, inplace=True)\n",
    "    new_data['year'] = new_data['release date'].apply(change_date)\n",
    "    new_data.drop(columns='release date', inplace=True)\n",
    "    new_data['track genre'].fillna('Inne', inplace=True)\n",
    "    new_data['new genre'] = new_data['track genre'].apply(change_genre)\n",
    "    new_data.drop(columns='track genre', inplace=True)\n",
    "    encoded_data = pd.get_dummies(new_data, columns=['new genre'], drop_first=True, dtype=int)\n",
    "    return encoded_data, new_data"
   ],
   "metadata": {
    "collapsed": false,
    "ExecuteTime": {
     "end_time": "2024-05-31T08:36:37.282765500Z",
     "start_time": "2024-05-31T08:36:37.222922800Z"
    }
   },
   "id": "e3d806b3397241d9",
   "execution_count": 9
  },
  {
   "cell_type": "code",
   "outputs": [
    {
     "name": "stderr",
     "output_type": "stream",
     "text": [
      "Max Retries reached\n"
     ]
    },
    {
     "ename": "SpotifyException",
     "evalue": "http status: 429, code:-1 - /v1/audio-features/?ids=60a0Rd6pjrkxjPbaKzXjfq:\n Max Retries, reason: too many 429 error responses",
     "output_type": "error",
     "traceback": [
      "\u001B[1;31m---------------------------------------------------------------------------\u001B[0m",
      "\u001B[1;31mResponseError\u001B[0m                             Traceback (most recent call last)",
      "\u001B[1;31mResponseError\u001B[0m: too many 429 error responses",
      "\nThe above exception was the direct cause of the following exception:\n",
      "\u001B[1;31mMaxRetryError\u001B[0m                             Traceback (most recent call last)",
      "File \u001B[1;32m~\\PycharmProjects\\spotify_project\\.venv\\lib\\site-packages\\requests\\adapters.py:486\u001B[0m, in \u001B[0;36mHTTPAdapter.send\u001B[1;34m(self, request, stream, timeout, verify, cert, proxies)\u001B[0m\n\u001B[0;32m    485\u001B[0m \u001B[38;5;28;01mtry\u001B[39;00m:\n\u001B[1;32m--> 486\u001B[0m     resp \u001B[38;5;241m=\u001B[39m \u001B[43mconn\u001B[49m\u001B[38;5;241;43m.\u001B[39;49m\u001B[43murlopen\u001B[49m\u001B[43m(\u001B[49m\n\u001B[0;32m    487\u001B[0m \u001B[43m        \u001B[49m\u001B[43mmethod\u001B[49m\u001B[38;5;241;43m=\u001B[39;49m\u001B[43mrequest\u001B[49m\u001B[38;5;241;43m.\u001B[39;49m\u001B[43mmethod\u001B[49m\u001B[43m,\u001B[49m\n\u001B[0;32m    488\u001B[0m \u001B[43m        \u001B[49m\u001B[43murl\u001B[49m\u001B[38;5;241;43m=\u001B[39;49m\u001B[43murl\u001B[49m\u001B[43m,\u001B[49m\n\u001B[0;32m    489\u001B[0m \u001B[43m        \u001B[49m\u001B[43mbody\u001B[49m\u001B[38;5;241;43m=\u001B[39;49m\u001B[43mrequest\u001B[49m\u001B[38;5;241;43m.\u001B[39;49m\u001B[43mbody\u001B[49m\u001B[43m,\u001B[49m\n\u001B[0;32m    490\u001B[0m \u001B[43m        \u001B[49m\u001B[43mheaders\u001B[49m\u001B[38;5;241;43m=\u001B[39;49m\u001B[43mrequest\u001B[49m\u001B[38;5;241;43m.\u001B[39;49m\u001B[43mheaders\u001B[49m\u001B[43m,\u001B[49m\n\u001B[0;32m    491\u001B[0m \u001B[43m        \u001B[49m\u001B[43mredirect\u001B[49m\u001B[38;5;241;43m=\u001B[39;49m\u001B[38;5;28;43;01mFalse\u001B[39;49;00m\u001B[43m,\u001B[49m\n\u001B[0;32m    492\u001B[0m \u001B[43m        \u001B[49m\u001B[43massert_same_host\u001B[49m\u001B[38;5;241;43m=\u001B[39;49m\u001B[38;5;28;43;01mFalse\u001B[39;49;00m\u001B[43m,\u001B[49m\n\u001B[0;32m    493\u001B[0m \u001B[43m        \u001B[49m\u001B[43mpreload_content\u001B[49m\u001B[38;5;241;43m=\u001B[39;49m\u001B[38;5;28;43;01mFalse\u001B[39;49;00m\u001B[43m,\u001B[49m\n\u001B[0;32m    494\u001B[0m \u001B[43m        \u001B[49m\u001B[43mdecode_content\u001B[49m\u001B[38;5;241;43m=\u001B[39;49m\u001B[38;5;28;43;01mFalse\u001B[39;49;00m\u001B[43m,\u001B[49m\n\u001B[0;32m    495\u001B[0m \u001B[43m        \u001B[49m\u001B[43mretries\u001B[49m\u001B[38;5;241;43m=\u001B[39;49m\u001B[38;5;28;43mself\u001B[39;49m\u001B[38;5;241;43m.\u001B[39;49m\u001B[43mmax_retries\u001B[49m\u001B[43m,\u001B[49m\n\u001B[0;32m    496\u001B[0m \u001B[43m        \u001B[49m\u001B[43mtimeout\u001B[49m\u001B[38;5;241;43m=\u001B[39;49m\u001B[43mtimeout\u001B[49m\u001B[43m,\u001B[49m\n\u001B[0;32m    497\u001B[0m \u001B[43m        \u001B[49m\u001B[43mchunked\u001B[49m\u001B[38;5;241;43m=\u001B[39;49m\u001B[43mchunked\u001B[49m\u001B[43m,\u001B[49m\n\u001B[0;32m    498\u001B[0m \u001B[43m    \u001B[49m\u001B[43m)\u001B[49m\n\u001B[0;32m    500\u001B[0m \u001B[38;5;28;01mexcept\u001B[39;00m (ProtocolError, \u001B[38;5;167;01mOSError\u001B[39;00m) \u001B[38;5;28;01mas\u001B[39;00m err:\n",
      "File \u001B[1;32m~\\PycharmProjects\\spotify_project\\.venv\\lib\\site-packages\\urllib3\\connectionpool.py:948\u001B[0m, in \u001B[0;36mHTTPConnectionPool.urlopen\u001B[1;34m(self, method, url, body, headers, retries, redirect, assert_same_host, timeout, pool_timeout, release_conn, chunked, body_pos, preload_content, decode_content, **response_kw)\u001B[0m\n\u001B[0;32m    947\u001B[0m     log\u001B[38;5;241m.\u001B[39mdebug(\u001B[38;5;124m\"\u001B[39m\u001B[38;5;124mRetry: \u001B[39m\u001B[38;5;132;01m%s\u001B[39;00m\u001B[38;5;124m\"\u001B[39m, url)\n\u001B[1;32m--> 948\u001B[0m     \u001B[38;5;28;01mreturn\u001B[39;00m \u001B[38;5;28mself\u001B[39m\u001B[38;5;241m.\u001B[39murlopen(\n\u001B[0;32m    949\u001B[0m         method,\n\u001B[0;32m    950\u001B[0m         url,\n\u001B[0;32m    951\u001B[0m         body,\n\u001B[0;32m    952\u001B[0m         headers,\n\u001B[0;32m    953\u001B[0m         retries\u001B[38;5;241m=\u001B[39mretries,\n\u001B[0;32m    954\u001B[0m         redirect\u001B[38;5;241m=\u001B[39mredirect,\n\u001B[0;32m    955\u001B[0m         assert_same_host\u001B[38;5;241m=\u001B[39massert_same_host,\n\u001B[0;32m    956\u001B[0m         timeout\u001B[38;5;241m=\u001B[39mtimeout,\n\u001B[0;32m    957\u001B[0m         pool_timeout\u001B[38;5;241m=\u001B[39mpool_timeout,\n\u001B[0;32m    958\u001B[0m         release_conn\u001B[38;5;241m=\u001B[39mrelease_conn,\n\u001B[0;32m    959\u001B[0m         chunked\u001B[38;5;241m=\u001B[39mchunked,\n\u001B[0;32m    960\u001B[0m         body_pos\u001B[38;5;241m=\u001B[39mbody_pos,\n\u001B[0;32m    961\u001B[0m         preload_content\u001B[38;5;241m=\u001B[39mpreload_content,\n\u001B[0;32m    962\u001B[0m         decode_content\u001B[38;5;241m=\u001B[39mdecode_content,\n\u001B[0;32m    963\u001B[0m         \u001B[38;5;241m*\u001B[39m\u001B[38;5;241m*\u001B[39mresponse_kw,\n\u001B[0;32m    964\u001B[0m     )\n\u001B[0;32m    966\u001B[0m \u001B[38;5;28;01mreturn\u001B[39;00m response\n",
      "File \u001B[1;32m~\\PycharmProjects\\spotify_project\\.venv\\lib\\site-packages\\urllib3\\connectionpool.py:948\u001B[0m, in \u001B[0;36mHTTPConnectionPool.urlopen\u001B[1;34m(self, method, url, body, headers, retries, redirect, assert_same_host, timeout, pool_timeout, release_conn, chunked, body_pos, preload_content, decode_content, **response_kw)\u001B[0m\n\u001B[0;32m    947\u001B[0m     log\u001B[38;5;241m.\u001B[39mdebug(\u001B[38;5;124m\"\u001B[39m\u001B[38;5;124mRetry: \u001B[39m\u001B[38;5;132;01m%s\u001B[39;00m\u001B[38;5;124m\"\u001B[39m, url)\n\u001B[1;32m--> 948\u001B[0m     \u001B[38;5;28;01mreturn\u001B[39;00m \u001B[38;5;28mself\u001B[39m\u001B[38;5;241m.\u001B[39murlopen(\n\u001B[0;32m    949\u001B[0m         method,\n\u001B[0;32m    950\u001B[0m         url,\n\u001B[0;32m    951\u001B[0m         body,\n\u001B[0;32m    952\u001B[0m         headers,\n\u001B[0;32m    953\u001B[0m         retries\u001B[38;5;241m=\u001B[39mretries,\n\u001B[0;32m    954\u001B[0m         redirect\u001B[38;5;241m=\u001B[39mredirect,\n\u001B[0;32m    955\u001B[0m         assert_same_host\u001B[38;5;241m=\u001B[39massert_same_host,\n\u001B[0;32m    956\u001B[0m         timeout\u001B[38;5;241m=\u001B[39mtimeout,\n\u001B[0;32m    957\u001B[0m         pool_timeout\u001B[38;5;241m=\u001B[39mpool_timeout,\n\u001B[0;32m    958\u001B[0m         release_conn\u001B[38;5;241m=\u001B[39mrelease_conn,\n\u001B[0;32m    959\u001B[0m         chunked\u001B[38;5;241m=\u001B[39mchunked,\n\u001B[0;32m    960\u001B[0m         body_pos\u001B[38;5;241m=\u001B[39mbody_pos,\n\u001B[0;32m    961\u001B[0m         preload_content\u001B[38;5;241m=\u001B[39mpreload_content,\n\u001B[0;32m    962\u001B[0m         decode_content\u001B[38;5;241m=\u001B[39mdecode_content,\n\u001B[0;32m    963\u001B[0m         \u001B[38;5;241m*\u001B[39m\u001B[38;5;241m*\u001B[39mresponse_kw,\n\u001B[0;32m    964\u001B[0m     )\n\u001B[0;32m    966\u001B[0m \u001B[38;5;28;01mreturn\u001B[39;00m response\n",
      "File \u001B[1;32m~\\PycharmProjects\\spotify_project\\.venv\\lib\\site-packages\\urllib3\\connectionpool.py:948\u001B[0m, in \u001B[0;36mHTTPConnectionPool.urlopen\u001B[1;34m(self, method, url, body, headers, retries, redirect, assert_same_host, timeout, pool_timeout, release_conn, chunked, body_pos, preload_content, decode_content, **response_kw)\u001B[0m\n\u001B[0;32m    947\u001B[0m     log\u001B[38;5;241m.\u001B[39mdebug(\u001B[38;5;124m\"\u001B[39m\u001B[38;5;124mRetry: \u001B[39m\u001B[38;5;132;01m%s\u001B[39;00m\u001B[38;5;124m\"\u001B[39m, url)\n\u001B[1;32m--> 948\u001B[0m     \u001B[38;5;28;01mreturn\u001B[39;00m \u001B[38;5;28mself\u001B[39m\u001B[38;5;241m.\u001B[39murlopen(\n\u001B[0;32m    949\u001B[0m         method,\n\u001B[0;32m    950\u001B[0m         url,\n\u001B[0;32m    951\u001B[0m         body,\n\u001B[0;32m    952\u001B[0m         headers,\n\u001B[0;32m    953\u001B[0m         retries\u001B[38;5;241m=\u001B[39mretries,\n\u001B[0;32m    954\u001B[0m         redirect\u001B[38;5;241m=\u001B[39mredirect,\n\u001B[0;32m    955\u001B[0m         assert_same_host\u001B[38;5;241m=\u001B[39massert_same_host,\n\u001B[0;32m    956\u001B[0m         timeout\u001B[38;5;241m=\u001B[39mtimeout,\n\u001B[0;32m    957\u001B[0m         pool_timeout\u001B[38;5;241m=\u001B[39mpool_timeout,\n\u001B[0;32m    958\u001B[0m         release_conn\u001B[38;5;241m=\u001B[39mrelease_conn,\n\u001B[0;32m    959\u001B[0m         chunked\u001B[38;5;241m=\u001B[39mchunked,\n\u001B[0;32m    960\u001B[0m         body_pos\u001B[38;5;241m=\u001B[39mbody_pos,\n\u001B[0;32m    961\u001B[0m         preload_content\u001B[38;5;241m=\u001B[39mpreload_content,\n\u001B[0;32m    962\u001B[0m         decode_content\u001B[38;5;241m=\u001B[39mdecode_content,\n\u001B[0;32m    963\u001B[0m         \u001B[38;5;241m*\u001B[39m\u001B[38;5;241m*\u001B[39mresponse_kw,\n\u001B[0;32m    964\u001B[0m     )\n\u001B[0;32m    966\u001B[0m \u001B[38;5;28;01mreturn\u001B[39;00m response\n",
      "File \u001B[1;32m~\\PycharmProjects\\spotify_project\\.venv\\lib\\site-packages\\urllib3\\connectionpool.py:938\u001B[0m, in \u001B[0;36mHTTPConnectionPool.urlopen\u001B[1;34m(self, method, url, body, headers, retries, redirect, assert_same_host, timeout, pool_timeout, release_conn, chunked, body_pos, preload_content, decode_content, **response_kw)\u001B[0m\n\u001B[0;32m    937\u001B[0m \u001B[38;5;28;01mtry\u001B[39;00m:\n\u001B[1;32m--> 938\u001B[0m     retries \u001B[38;5;241m=\u001B[39m \u001B[43mretries\u001B[49m\u001B[38;5;241;43m.\u001B[39;49m\u001B[43mincrement\u001B[49m\u001B[43m(\u001B[49m\u001B[43mmethod\u001B[49m\u001B[43m,\u001B[49m\u001B[43m \u001B[49m\u001B[43murl\u001B[49m\u001B[43m,\u001B[49m\u001B[43m \u001B[49m\u001B[43mresponse\u001B[49m\u001B[38;5;241;43m=\u001B[39;49m\u001B[43mresponse\u001B[49m\u001B[43m,\u001B[49m\u001B[43m \u001B[49m\u001B[43m_pool\u001B[49m\u001B[38;5;241;43m=\u001B[39;49m\u001B[38;5;28;43mself\u001B[39;49m\u001B[43m)\u001B[49m\n\u001B[0;32m    939\u001B[0m \u001B[38;5;28;01mexcept\u001B[39;00m MaxRetryError:\n",
      "File \u001B[1;32m~\\PycharmProjects\\spotify_project\\.venv\\lib\\site-packages\\urllib3\\util\\retry.py:515\u001B[0m, in \u001B[0;36mRetry.increment\u001B[1;34m(self, method, url, response, error, _pool, _stacktrace)\u001B[0m\n\u001B[0;32m    514\u001B[0m     reason \u001B[38;5;241m=\u001B[39m error \u001B[38;5;129;01mor\u001B[39;00m ResponseError(cause)\n\u001B[1;32m--> 515\u001B[0m     \u001B[38;5;28;01mraise\u001B[39;00m MaxRetryError(_pool, url, reason) \u001B[38;5;28;01mfrom\u001B[39;00m \u001B[38;5;21;01mreason\u001B[39;00m  \u001B[38;5;66;03m# type: ignore[arg-type]\u001B[39;00m\n\u001B[0;32m    517\u001B[0m log\u001B[38;5;241m.\u001B[39mdebug(\u001B[38;5;124m\"\u001B[39m\u001B[38;5;124mIncremented Retry for (url=\u001B[39m\u001B[38;5;124m'\u001B[39m\u001B[38;5;132;01m%s\u001B[39;00m\u001B[38;5;124m'\u001B[39m\u001B[38;5;124m): \u001B[39m\u001B[38;5;132;01m%r\u001B[39;00m\u001B[38;5;124m\"\u001B[39m, url, new_retry)\n",
      "\u001B[1;31mMaxRetryError\u001B[0m: HTTPSConnectionPool(host='api.spotify.com', port=443): Max retries exceeded with url: /v1/audio-features/?ids=60a0Rd6pjrkxjPbaKzXjfq (Caused by ResponseError('too many 429 error responses'))",
      "\nDuring handling of the above exception, another exception occurred:\n",
      "\u001B[1;31mRetryError\u001B[0m                                Traceback (most recent call last)",
      "File \u001B[1;32m~\\PycharmProjects\\spotify_project\\.venv\\lib\\site-packages\\spotipy\\client.py:266\u001B[0m, in \u001B[0;36mSpotify._internal_call\u001B[1;34m(self, method, url, payload, params)\u001B[0m\n\u001B[0;32m    265\u001B[0m \u001B[38;5;28;01mtry\u001B[39;00m:\n\u001B[1;32m--> 266\u001B[0m     response \u001B[38;5;241m=\u001B[39m \u001B[38;5;28mself\u001B[39m\u001B[38;5;241m.\u001B[39m_session\u001B[38;5;241m.\u001B[39mrequest(\n\u001B[0;32m    267\u001B[0m         method, url, headers\u001B[38;5;241m=\u001B[39mheaders, proxies\u001B[38;5;241m=\u001B[39m\u001B[38;5;28mself\u001B[39m\u001B[38;5;241m.\u001B[39mproxies,\n\u001B[0;32m    268\u001B[0m         timeout\u001B[38;5;241m=\u001B[39m\u001B[38;5;28mself\u001B[39m\u001B[38;5;241m.\u001B[39mrequests_timeout, \u001B[38;5;241m*\u001B[39m\u001B[38;5;241m*\u001B[39margs\n\u001B[0;32m    269\u001B[0m     )\n\u001B[0;32m    271\u001B[0m     response\u001B[38;5;241m.\u001B[39mraise_for_status()\n",
      "File \u001B[1;32m~\\PycharmProjects\\spotify_project\\.venv\\lib\\site-packages\\requests\\sessions.py:589\u001B[0m, in \u001B[0;36mSession.request\u001B[1;34m(self, method, url, params, data, headers, cookies, files, auth, timeout, allow_redirects, proxies, hooks, stream, verify, cert, json)\u001B[0m\n\u001B[0;32m    588\u001B[0m send_kwargs\u001B[38;5;241m.\u001B[39mupdate(settings)\n\u001B[1;32m--> 589\u001B[0m resp \u001B[38;5;241m=\u001B[39m \u001B[38;5;28mself\u001B[39m\u001B[38;5;241m.\u001B[39msend(prep, \u001B[38;5;241m*\u001B[39m\u001B[38;5;241m*\u001B[39msend_kwargs)\n\u001B[0;32m    591\u001B[0m \u001B[38;5;28;01mreturn\u001B[39;00m resp\n",
      "File \u001B[1;32m~\\PycharmProjects\\spotify_project\\.venv\\lib\\site-packages\\requests\\sessions.py:703\u001B[0m, in \u001B[0;36mSession.send\u001B[1;34m(self, request, **kwargs)\u001B[0m\n\u001B[0;32m    702\u001B[0m \u001B[38;5;66;03m# Send the request\u001B[39;00m\n\u001B[1;32m--> 703\u001B[0m r \u001B[38;5;241m=\u001B[39m adapter\u001B[38;5;241m.\u001B[39msend(request, \u001B[38;5;241m*\u001B[39m\u001B[38;5;241m*\u001B[39mkwargs)\n\u001B[0;32m    705\u001B[0m \u001B[38;5;66;03m# Total elapsed time of the request (approximately)\u001B[39;00m\n",
      "File \u001B[1;32m~\\PycharmProjects\\spotify_project\\.venv\\lib\\site-packages\\requests\\adapters.py:510\u001B[0m, in \u001B[0;36mHTTPAdapter.send\u001B[1;34m(self, request, stream, timeout, verify, cert, proxies)\u001B[0m\n\u001B[0;32m    509\u001B[0m \u001B[38;5;28;01mif\u001B[39;00m \u001B[38;5;28misinstance\u001B[39m(e\u001B[38;5;241m.\u001B[39mreason, ResponseError):\n\u001B[1;32m--> 510\u001B[0m     \u001B[38;5;28;01mraise\u001B[39;00m RetryError(e, request\u001B[38;5;241m=\u001B[39mrequest)\n\u001B[0;32m    512\u001B[0m \u001B[38;5;28;01mif\u001B[39;00m \u001B[38;5;28misinstance\u001B[39m(e\u001B[38;5;241m.\u001B[39mreason, _ProxyError):\n",
      "\u001B[1;31mRetryError\u001B[0m: HTTPSConnectionPool(host='api.spotify.com', port=443): Max retries exceeded with url: /v1/audio-features/?ids=60a0Rd6pjrkxjPbaKzXjfq (Caused by ResponseError('too many 429 error responses'))",
      "\nDuring handling of the above exception, another exception occurred:\n",
      "\u001B[1;31mSpotifyException\u001B[0m                          Traceback (most recent call last)",
      "Cell \u001B[1;32mIn[8], line 2\u001B[0m\n\u001B[0;32m      1\u001B[0m rock_playlist \u001B[38;5;241m=\u001B[39m \u001B[38;5;124m'\u001B[39m\u001B[38;5;124mhttps://open.spotify.com/playlist/37i9dQZF1EQpj7X7UK8OOF?si=6dd3a1c1850d456c\u001B[39m\u001B[38;5;124m'\u001B[39m\n\u001B[1;32m----> 2\u001B[0m playlist \u001B[38;5;241m=\u001B[39m \u001B[43mget_playlist_data\u001B[49m\u001B[43m(\u001B[49m\u001B[43mrock_playlist\u001B[49m\u001B[43m,\u001B[49m\u001B[43m \u001B[49m\u001B[38;5;124;43m'\u001B[39;49m\u001B[38;5;124;43mrock_test\u001B[39;49m\u001B[38;5;124;43m'\u001B[39;49m\u001B[43m)\u001B[49m\n",
      "Cell \u001B[1;32mIn[7], line 65\u001B[0m, in \u001B[0;36mget_playlist_data\u001B[1;34m(link, file_name)\u001B[0m\n\u001B[0;32m     64\u001B[0m \u001B[38;5;28;01mdef\u001B[39;00m \u001B[38;5;21mget_playlist_data\u001B[39m(link, file_name): \u001B[38;5;66;03m# tu będziemy otrzymać encodowane dane do rekomendacji i new_data czyli dane bez encodowania, które będą przydatne podczas analizy playlisty \u001B[39;00m\n\u001B[1;32m---> 65\u001B[0m     \u001B[43mextract\u001B[49m\u001B[43m(\u001B[49m\u001B[43mlink\u001B[49m\u001B[43m,\u001B[49m\u001B[43m \u001B[49m\u001B[38;5;124;43mf\u001B[39;49m\u001B[38;5;124;43m'\u001B[39;49m\u001B[38;5;132;43;01m{\u001B[39;49;00m\u001B[43mfile_name\u001B[49m\u001B[38;5;132;43;01m}\u001B[39;49;00m\u001B[38;5;124;43m.csv\u001B[39;49m\u001B[38;5;124;43m'\u001B[39;49m\u001B[43m)\u001B[49m\n\u001B[0;32m     66\u001B[0m     new_data \u001B[38;5;241m=\u001B[39m pd\u001B[38;5;241m.\u001B[39mread_csv(\u001B[38;5;124mf\u001B[39m\u001B[38;5;124m'\u001B[39m\u001B[38;5;132;01m{\u001B[39;00mfile_name\u001B[38;5;132;01m}\u001B[39;00m\u001B[38;5;124m.csv\u001B[39m\u001B[38;5;124m'\u001B[39m)\n\u001B[0;32m     67\u001B[0m     new_data\u001B[38;5;241m.\u001B[39mdropna(inplace\u001B[38;5;241m=\u001B[39m\u001B[38;5;28;01mTrue\u001B[39;00m, subset\u001B[38;5;241m=\u001B[39m[\u001B[38;5;124m'\u001B[39m\u001B[38;5;124mother\u001B[39m\u001B[38;5;124m'\u001B[39m])\n",
      "File \u001B[1;32m~\\PycharmProjects\\spotify_project\\extracting_data.py:38\u001B[0m, in \u001B[0;36mextract\u001B[1;34m(link, file_path)\u001B[0m\n\u001B[0;32m     35\u001B[0m track_uri \u001B[38;5;241m=\u001B[39m track[\u001B[38;5;124m\"\u001B[39m\u001B[38;5;124mtrack\u001B[39m\u001B[38;5;124m\"\u001B[39m][\u001B[38;5;124m\"\u001B[39m\u001B[38;5;124muri\u001B[39m\u001B[38;5;124m\"\u001B[39m]\n\u001B[0;32m     37\u001B[0m \u001B[38;5;66;03m# Dancebility, energy ...\u001B[39;00m\n\u001B[1;32m---> 38\u001B[0m other_features \u001B[38;5;241m=\u001B[39m \u001B[43msp\u001B[49m\u001B[38;5;241;43m.\u001B[39;49m\u001B[43maudio_features\u001B[49m\u001B[43m(\u001B[49m\u001B[43mtrack_uri\u001B[49m\u001B[43m)\u001B[49m[\u001B[38;5;241m0\u001B[39m]\n\u001B[0;32m     39\u001B[0m other\u001B[38;5;241m.\u001B[39mappend(other_features)\n\u001B[0;32m     41\u001B[0m \u001B[38;5;66;03m# Track name\u001B[39;00m\n",
      "File \u001B[1;32m~\\PycharmProjects\\spotify_project\\.venv\\lib\\site-packages\\spotipy\\client.py:1734\u001B[0m, in \u001B[0;36mSpotify.audio_features\u001B[1;34m(self, tracks)\u001B[0m\n\u001B[0;32m   1732\u001B[0m \u001B[38;5;28;01mif\u001B[39;00m \u001B[38;5;28misinstance\u001B[39m(tracks, \u001B[38;5;28mstr\u001B[39m):\n\u001B[0;32m   1733\u001B[0m     trackid \u001B[38;5;241m=\u001B[39m \u001B[38;5;28mself\u001B[39m\u001B[38;5;241m.\u001B[39m_get_id(\u001B[38;5;124m\"\u001B[39m\u001B[38;5;124mtrack\u001B[39m\u001B[38;5;124m\"\u001B[39m, tracks)\n\u001B[1;32m-> 1734\u001B[0m     results \u001B[38;5;241m=\u001B[39m \u001B[38;5;28;43mself\u001B[39;49m\u001B[38;5;241;43m.\u001B[39;49m\u001B[43m_get\u001B[49m\u001B[43m(\u001B[49m\u001B[38;5;124;43m\"\u001B[39;49m\u001B[38;5;124;43maudio-features/?ids=\u001B[39;49m\u001B[38;5;124;43m\"\u001B[39;49m\u001B[43m \u001B[49m\u001B[38;5;241;43m+\u001B[39;49m\u001B[43m \u001B[49m\u001B[43mtrackid\u001B[49m\u001B[43m)\u001B[49m\n\u001B[0;32m   1735\u001B[0m \u001B[38;5;28;01melse\u001B[39;00m:\n\u001B[0;32m   1736\u001B[0m     tlist \u001B[38;5;241m=\u001B[39m [\u001B[38;5;28mself\u001B[39m\u001B[38;5;241m.\u001B[39m_get_id(\u001B[38;5;124m\"\u001B[39m\u001B[38;5;124mtrack\u001B[39m\u001B[38;5;124m\"\u001B[39m, t) \u001B[38;5;28;01mfor\u001B[39;00m t \u001B[38;5;129;01min\u001B[39;00m tracks]\n",
      "File \u001B[1;32m~\\PycharmProjects\\spotify_project\\.venv\\lib\\site-packages\\spotipy\\client.py:323\u001B[0m, in \u001B[0;36mSpotify._get\u001B[1;34m(self, url, args, payload, **kwargs)\u001B[0m\n\u001B[0;32m    320\u001B[0m \u001B[38;5;28;01mif\u001B[39;00m args:\n\u001B[0;32m    321\u001B[0m     kwargs\u001B[38;5;241m.\u001B[39mupdate(args)\n\u001B[1;32m--> 323\u001B[0m \u001B[38;5;28;01mreturn\u001B[39;00m \u001B[38;5;28;43mself\u001B[39;49m\u001B[38;5;241;43m.\u001B[39;49m\u001B[43m_internal_call\u001B[49m\u001B[43m(\u001B[49m\u001B[38;5;124;43m\"\u001B[39;49m\u001B[38;5;124;43mGET\u001B[39;49m\u001B[38;5;124;43m\"\u001B[39;49m\u001B[43m,\u001B[49m\u001B[43m \u001B[49m\u001B[43murl\u001B[49m\u001B[43m,\u001B[49m\u001B[43m \u001B[49m\u001B[43mpayload\u001B[49m\u001B[43m,\u001B[49m\u001B[43m \u001B[49m\u001B[43mkwargs\u001B[49m\u001B[43m)\u001B[49m\n",
      "File \u001B[1;32m~\\PycharmProjects\\spotify_project\\.venv\\lib\\site-packages\\spotipy\\client.py:307\u001B[0m, in \u001B[0;36mSpotify._internal_call\u001B[1;34m(self, method, url, payload, params)\u001B[0m\n\u001B[0;32m    305\u001B[0m     \u001B[38;5;28;01mexcept\u001B[39;00m (\u001B[38;5;167;01mIndexError\u001B[39;00m, \u001B[38;5;167;01mAttributeError\u001B[39;00m):\n\u001B[0;32m    306\u001B[0m         reason \u001B[38;5;241m=\u001B[39m \u001B[38;5;28;01mNone\u001B[39;00m\n\u001B[1;32m--> 307\u001B[0m     \u001B[38;5;28;01mraise\u001B[39;00m SpotifyException(\n\u001B[0;32m    308\u001B[0m         \u001B[38;5;241m429\u001B[39m,\n\u001B[0;32m    309\u001B[0m         \u001B[38;5;241m-\u001B[39m\u001B[38;5;241m1\u001B[39m,\n\u001B[0;32m    310\u001B[0m         \u001B[38;5;124m\"\u001B[39m\u001B[38;5;132;01m%s\u001B[39;00m\u001B[38;5;124m:\u001B[39m\u001B[38;5;130;01m\\n\u001B[39;00m\u001B[38;5;124m \u001B[39m\u001B[38;5;132;01m%s\u001B[39;00m\u001B[38;5;124m\"\u001B[39m \u001B[38;5;241m%\u001B[39m (request\u001B[38;5;241m.\u001B[39mpath_url, \u001B[38;5;124m\"\u001B[39m\u001B[38;5;124mMax Retries\u001B[39m\u001B[38;5;124m\"\u001B[39m),\n\u001B[0;32m    311\u001B[0m         reason\u001B[38;5;241m=\u001B[39mreason\n\u001B[0;32m    312\u001B[0m     )\n\u001B[0;32m    313\u001B[0m \u001B[38;5;28;01mexcept\u001B[39;00m \u001B[38;5;167;01mValueError\u001B[39;00m:\n\u001B[0;32m    314\u001B[0m     results \u001B[38;5;241m=\u001B[39m \u001B[38;5;28;01mNone\u001B[39;00m\n",
      "\u001B[1;31mSpotifyException\u001B[0m: http status: 429, code:-1 - /v1/audio-features/?ids=60a0Rd6pjrkxjPbaKzXjfq:\n Max Retries, reason: too many 429 error responses"
     ]
    }
   ],
   "source": [
    "rock_playlist = 'https://open.spotify.com/playlist/37i9dQZF1EQpj7X7UK8OOF?si=6dd3a1c1850d456c'\n",
    "playlist = get_playlist_data(rock_playlist, 'rock_test')"
   ],
   "metadata": {
    "collapsed": false,
    "ExecuteTime": {
     "end_time": "2024-05-31T08:36:02.676072900Z",
     "start_time": "2024-05-31T08:35:58.651800200Z"
    }
   },
   "id": "c0f9a8f592e5a6af",
   "execution_count": 8
  },
  {
   "cell_type": "code",
   "outputs": [
    {
     "name": "stderr",
     "output_type": "stream",
     "text": [
      "C:\\Users\\HP\\AppData\\Local\\Temp\\ipykernel_1672\\3123218173.py:72: FutureWarning: A value is trying to be set on a copy of a DataFrame or Series through chained assignment using an inplace method.\n",
      "The behavior will change in pandas 3.0. This inplace method will never work because the intermediate object on which we are setting values always behaves as a copy.\n",
      "\n",
      "For example, when doing 'df[col].method(value, inplace=True)', try using 'df.method({col: value}, inplace=True)' or df[col] = df[col].method(value) instead, to perform the operation inplace on the original object.\n",
      "\n",
      "\n",
      "  new_data['track genre'].fillna('Inne', inplace=True)\n"
     ]
    }
   ],
   "source": [
    "playlist_encoded, playlist = get_playlist_data('test')"
   ],
   "metadata": {
    "collapsed": false,
    "ExecuteTime": {
     "end_time": "2024-05-31T08:37:05.410323400Z",
     "start_time": "2024-05-31T08:37:05.283663700Z"
    }
   },
   "id": "42e899e34fcd2bed",
   "execution_count": 12
  },
  {
   "cell_type": "code",
   "outputs": [],
   "source": [
    "playlist_num = playlist_encoded.drop(columns=['artist', 'album', 'track'])"
   ],
   "metadata": {
    "collapsed": false,
    "ExecuteTime": {
     "end_time": "2024-05-31T08:37:14.560571300Z",
     "start_time": "2024-05-31T08:37:14.519679100Z"
    }
   },
   "id": "682f64a10d72b283",
   "execution_count": 13
  },
  {
   "cell_type": "code",
   "outputs": [],
   "source": [
    "from sklearn.preprocessing import MinMaxScaler\n",
    "\n",
    "def scale_data(data, column_names):\n",
    "    df = pd.DataFrame(data, columns=column_names)\n",
    "    scaler = MinMaxScaler()\n",
    "    scaled_data = scaler.fit_transform(df)\n",
    "    scaled_df = pd.DataFrame(scaled_data, columns=column_names)\n",
    "    return scaled_df"
   ],
   "metadata": {
    "collapsed": false,
    "ExecuteTime": {
     "end_time": "2024-05-31T08:37:19.624833800Z",
     "start_time": "2024-05-31T08:37:17.967269100Z"
    }
   },
   "id": "4f2a2b8df09a7703",
   "execution_count": 14
  },
  {
   "cell_type": "code",
   "outputs": [],
   "source": [
    "scaled_playlist = scale_data(data=playlist_num, column_names=playlist_num.columns)"
   ],
   "metadata": {
    "collapsed": false,
    "ExecuteTime": {
     "end_time": "2024-05-31T08:37:25.344508900Z",
     "start_time": "2024-05-31T08:37:25.302621800Z"
    }
   },
   "id": "2f8ceb24483c685",
   "execution_count": 15
  },
  {
   "cell_type": "code",
   "outputs": [],
   "source": [
    "spotify_data = pd.read_csv('spotify_data_encoded2.csv')\n",
    "spotify_data.drop([spotify_data.columns[0]], axis=1, inplace=True)\n",
    "spotify_data_num = spotify_data.drop(columns=['track', 'artist', 'album'])\n",
    "spotify_data_scaled = scale_data(spotify_data_num, spotify_data_num.columns)"
   ],
   "metadata": {
    "collapsed": false,
    "ExecuteTime": {
     "end_time": "2024-05-31T08:37:26.323898800Z",
     "start_time": "2024-05-31T08:37:26.195237800Z"
    }
   },
   "id": "16fe1d102f372fa6",
   "execution_count": 16
  },
  {
   "cell_type": "markdown",
   "source": [
    "# Liczenie średnich wartości"
   ],
   "metadata": {
    "collapsed": false
   },
   "id": "a9645255f33e24fc"
  },
  {
   "cell_type": "code",
   "outputs": [
    {
     "data": {
      "text/plain": "         artist pop  track pop  duration  danceability    energy  loudness  \\\nAverage    0.474865   0.882766  0.405921      0.570971  0.593017  0.695442   \n\n         speechiness  acousticness  instrumentalness  liveness   valence  \\\nAverage     0.101508      0.228562          0.043075  0.189823  0.564036   \n\n           tempo     year  new genre_hip hop  new genre_indie  \\\nAverage  0.37681  0.77766               0.07             0.02   \n\n         new genre_other  new genre_pop  new genre_rap  new genre_rock  \\\nAverage             0.15           0.59           0.02            0.13   \n\n         new genre_soul  \nAverage            0.01  ",
      "text/html": "<div>\n<style scoped>\n    .dataframe tbody tr th:only-of-type {\n        vertical-align: middle;\n    }\n\n    .dataframe tbody tr th {\n        vertical-align: top;\n    }\n\n    .dataframe thead th {\n        text-align: right;\n    }\n</style>\n<table border=\"1\" class=\"dataframe\">\n  <thead>\n    <tr style=\"text-align: right;\">\n      <th></th>\n      <th>artist pop</th>\n      <th>track pop</th>\n      <th>duration</th>\n      <th>danceability</th>\n      <th>energy</th>\n      <th>loudness</th>\n      <th>speechiness</th>\n      <th>acousticness</th>\n      <th>instrumentalness</th>\n      <th>liveness</th>\n      <th>valence</th>\n      <th>tempo</th>\n      <th>year</th>\n      <th>new genre_hip hop</th>\n      <th>new genre_indie</th>\n      <th>new genre_other</th>\n      <th>new genre_pop</th>\n      <th>new genre_rap</th>\n      <th>new genre_rock</th>\n      <th>new genre_soul</th>\n    </tr>\n  </thead>\n  <tbody>\n    <tr>\n      <th>Average</th>\n      <td>0.474865</td>\n      <td>0.882766</td>\n      <td>0.405921</td>\n      <td>0.570971</td>\n      <td>0.593017</td>\n      <td>0.695442</td>\n      <td>0.101508</td>\n      <td>0.228562</td>\n      <td>0.043075</td>\n      <td>0.189823</td>\n      <td>0.564036</td>\n      <td>0.37681</td>\n      <td>0.77766</td>\n      <td>0.07</td>\n      <td>0.02</td>\n      <td>0.15</td>\n      <td>0.59</td>\n      <td>0.02</td>\n      <td>0.13</td>\n      <td>0.01</td>\n    </tr>\n  </tbody>\n</table>\n</div>"
     },
     "execution_count": 17,
     "metadata": {},
     "output_type": "execute_result"
    }
   ],
   "source": [
    "column_averages = scaled_playlist.mean()\n",
    "averages_cosine_sim = pd.DataFrame([column_averages], index=['Average'])\n",
    "averages_cosine_sim"
   ],
   "metadata": {
    "collapsed": false,
    "ExecuteTime": {
     "end_time": "2024-05-31T08:37:33.658166400Z",
     "start_time": "2024-05-31T08:37:33.566410900Z"
    }
   },
   "id": "ddd6ae4093166f13",
   "execution_count": 17
  },
  {
   "cell_type": "markdown",
   "source": [
    "# Synchronizacja kolumn"
   ],
   "metadata": {
    "collapsed": false
   },
   "id": "d5ee21e91443fac"
  },
  {
   "cell_type": "code",
   "outputs": [],
   "source": [
    "def synchronize_columns(df1, df2):\n",
    "    missing_in_df2 = set(df1.columns) - set(df2.columns)\n",
    "    missing_in_df1 = set(df2.columns) - set(df1.columns)\n",
    "    \n",
    "    for col in missing_in_df2:\n",
    "        df2[col] = 0\n",
    "        \n",
    "    for col in missing_in_df1:\n",
    "        df1[col] = 0\n",
    "        \n",
    "    df1 = df1[sorted(df1.columns)]\n",
    "    df2 = df2[sorted(df2.columns)]\n",
    "    \n",
    "    return df1, df2"
   ],
   "metadata": {
    "collapsed": false,
    "ExecuteTime": {
     "end_time": "2024-05-31T08:37:39.293420100Z",
     "start_time": "2024-05-31T08:37:39.267490900Z"
    }
   },
   "id": "5df72737bb4bf53c",
   "execution_count": 18
  },
  {
   "cell_type": "code",
   "outputs": [],
   "source": [
    "synchronize_columns(spotify_data_scaled, averages_cosine_sim)\n",
    "averages_cosine_sim = averages_cosine_sim.sort_index(axis=1)\n",
    "spotify_data_scaled = spotify_data_scaled.sort_index(axis=1)"
   ],
   "metadata": {
    "collapsed": false,
    "ExecuteTime": {
     "end_time": "2024-05-31T08:37:41.991205100Z",
     "start_time": "2024-05-31T08:37:41.941337500Z"
    }
   },
   "id": "3dafc3c5981255e1",
   "execution_count": 19
  },
  {
   "cell_type": "markdown",
   "source": [
    "# Rekomendacja nowych 20 piosenek "
   ],
   "metadata": {
    "collapsed": false
   },
   "id": "72b2429efa356741"
  },
  {
   "cell_type": "code",
   "outputs": [
    {
     "data": {
      "text/plain": "                                                  track           artist_x  \\\n1558            Rockabye (feat. Sean Paul & Anne-Marie)       Clean Bandit   \n68                                              TiK ToK              Kesha   \n1161                I Took A Pill In Ibiza - Seeb Remix        Mike Posner   \n67                                            Bang Bang           Jessie J   \n1042                  Stereo Hearts (feat. Adam Levine)   Gym Class Heroes   \n51                                              Classic               MKTO   \n1153                    There's Nothing Holdin' Me Back       Shawn Mendes   \n38    These Days (feat. Jess Glynne, Macklemore & Da...         Rudimental   \n22    CAN'T STOP THE FEELING! (from DreamWorks Anima...  Justin Timberlake   \n1515                                          Starships        Nicki Minaj   \n1534                                Dear Future Husband     Meghan Trainor   \n30                                              Pompeii           Bastille   \n58                                           Wake Me Up             Avicii   \n1400                                      Electric Love              BØRNS   \n920                         Girls Just Want to Have Fun       Cyndi Lauper   \n1423                                           Nonsense  Sabrina Carpenter   \n25                        Rather Be (feat. Jess Glynne)       Clean Bandit   \n1383                                 Boy's a liar Pt. 2     PinkPantheress   \n1439                                               2002         Anne-Marie   \n1805                                    Teenage Dirtbag            Wheatus   \n\n      similarity_score  \n1558          0.973744  \n68            0.970373  \n1161          0.969824  \n67            0.969438  \n1042          0.968979  \n51            0.968912  \n1153          0.968827  \n38            0.968677  \n22            0.968482  \n1515          0.968181  \n1534          0.967770  \n30            0.967761  \n58            0.967375  \n1400          0.967298  \n920           0.966703  \n1423          0.966490  \n25            0.966475  \n1383          0.966452  \n1439          0.966399  \n1805          0.966031  ",
      "text/html": "<div>\n<style scoped>\n    .dataframe tbody tr th:only-of-type {\n        vertical-align: middle;\n    }\n\n    .dataframe tbody tr th {\n        vertical-align: top;\n    }\n\n    .dataframe thead th {\n        text-align: right;\n    }\n</style>\n<table border=\"1\" class=\"dataframe\">\n  <thead>\n    <tr style=\"text-align: right;\">\n      <th></th>\n      <th>track</th>\n      <th>artist_x</th>\n      <th>similarity_score</th>\n    </tr>\n  </thead>\n  <tbody>\n    <tr>\n      <th>1558</th>\n      <td>Rockabye (feat. Sean Paul &amp; Anne-Marie)</td>\n      <td>Clean Bandit</td>\n      <td>0.973744</td>\n    </tr>\n    <tr>\n      <th>68</th>\n      <td>TiK ToK</td>\n      <td>Kesha</td>\n      <td>0.970373</td>\n    </tr>\n    <tr>\n      <th>1161</th>\n      <td>I Took A Pill In Ibiza - Seeb Remix</td>\n      <td>Mike Posner</td>\n      <td>0.969824</td>\n    </tr>\n    <tr>\n      <th>67</th>\n      <td>Bang Bang</td>\n      <td>Jessie J</td>\n      <td>0.969438</td>\n    </tr>\n    <tr>\n      <th>1042</th>\n      <td>Stereo Hearts (feat. Adam Levine)</td>\n      <td>Gym Class Heroes</td>\n      <td>0.968979</td>\n    </tr>\n    <tr>\n      <th>51</th>\n      <td>Classic</td>\n      <td>MKTO</td>\n      <td>0.968912</td>\n    </tr>\n    <tr>\n      <th>1153</th>\n      <td>There's Nothing Holdin' Me Back</td>\n      <td>Shawn Mendes</td>\n      <td>0.968827</td>\n    </tr>\n    <tr>\n      <th>38</th>\n      <td>These Days (feat. Jess Glynne, Macklemore &amp; Da...</td>\n      <td>Rudimental</td>\n      <td>0.968677</td>\n    </tr>\n    <tr>\n      <th>22</th>\n      <td>CAN'T STOP THE FEELING! (from DreamWorks Anima...</td>\n      <td>Justin Timberlake</td>\n      <td>0.968482</td>\n    </tr>\n    <tr>\n      <th>1515</th>\n      <td>Starships</td>\n      <td>Nicki Minaj</td>\n      <td>0.968181</td>\n    </tr>\n    <tr>\n      <th>1534</th>\n      <td>Dear Future Husband</td>\n      <td>Meghan Trainor</td>\n      <td>0.967770</td>\n    </tr>\n    <tr>\n      <th>30</th>\n      <td>Pompeii</td>\n      <td>Bastille</td>\n      <td>0.967761</td>\n    </tr>\n    <tr>\n      <th>58</th>\n      <td>Wake Me Up</td>\n      <td>Avicii</td>\n      <td>0.967375</td>\n    </tr>\n    <tr>\n      <th>1400</th>\n      <td>Electric Love</td>\n      <td>BØRNS</td>\n      <td>0.967298</td>\n    </tr>\n    <tr>\n      <th>920</th>\n      <td>Girls Just Want to Have Fun</td>\n      <td>Cyndi Lauper</td>\n      <td>0.966703</td>\n    </tr>\n    <tr>\n      <th>1423</th>\n      <td>Nonsense</td>\n      <td>Sabrina Carpenter</td>\n      <td>0.966490</td>\n    </tr>\n    <tr>\n      <th>25</th>\n      <td>Rather Be (feat. Jess Glynne)</td>\n      <td>Clean Bandit</td>\n      <td>0.966475</td>\n    </tr>\n    <tr>\n      <th>1383</th>\n      <td>Boy's a liar Pt. 2</td>\n      <td>PinkPantheress</td>\n      <td>0.966452</td>\n    </tr>\n    <tr>\n      <th>1439</th>\n      <td>2002</td>\n      <td>Anne-Marie</td>\n      <td>0.966399</td>\n    </tr>\n    <tr>\n      <th>1805</th>\n      <td>Teenage Dirtbag</td>\n      <td>Wheatus</td>\n      <td>0.966031</td>\n    </tr>\n  </tbody>\n</table>\n</div>"
     },
     "execution_count": 20,
     "metadata": {},
     "output_type": "execute_result"
    }
   ],
   "source": [
    "from sklearn.metrics.pairwise import cosine_similarity\n",
    "\n",
    "similarity_scores = cosine_similarity(spotify_data_scaled, averages_cosine_sim)\n",
    " \n",
    "spotify_data['similarity_score'] = similarity_scores\n",
    " \n",
    "new_frame = pd.merge(spotify_data, playlist, how='left', on='track')\n",
    "top_similarities_filtered = new_frame[new_frame.isna().any(axis=1)]\n",
    "top_similarities_filtered = top_similarities_filtered.sort_values(by='similarity_score', ascending=False)\n",
    "top_similarities_filtered = top_similarities_filtered.drop_duplicates(subset=['track', 'artist_x'])\n",
    "top_similarities_filtered[['track', 'artist_x', 'similarity_score']].head(20)\n"
   ],
   "metadata": {
    "collapsed": false,
    "ExecuteTime": {
     "end_time": "2024-05-31T08:38:01.767457500Z",
     "start_time": "2024-05-31T08:38:00.763144400Z"
    }
   },
   "id": "7464010d34d64475",
   "execution_count": 20
  },
  {
   "cell_type": "code",
   "outputs": [],
   "source": [],
   "metadata": {
    "collapsed": false
   },
   "id": "dfb5d9cfd1128c25"
  }
 ],
 "metadata": {
  "kernelspec": {
   "display_name": "Python 3",
   "language": "python",
   "name": "python3"
  },
  "language_info": {
   "codemirror_mode": {
    "name": "ipython",
    "version": 2
   },
   "file_extension": ".py",
   "mimetype": "text/x-python",
   "name": "python",
   "nbconvert_exporter": "python",
   "pygments_lexer": "ipython2",
   "version": "2.7.6"
  }
 },
 "nbformat": 4,
 "nbformat_minor": 5
}
