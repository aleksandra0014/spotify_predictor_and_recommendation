{
 "cells": [
  {
   "cell_type": "code",
   "outputs": [],
   "source": [
    "from extracting_data import extract\n",
    "from utilis import change_date, change_genre\n",
    "import pandas as pd\n",
    "\n",
    "def change_string(x):\n",
    "    x = x.replace('{', '')\n",
    "    x = x.replace('}', '')\n",
    "    x = x.split(',')\n",
    "    return x\n",
    "\n",
    "\n",
    "def tranform_column(column):\n",
    "    d = column.apply(change_string)\n",
    "    list_of_dictionaries = []\n",
    "    for row in d:\n",
    "        data_dict = {}\n",
    "        for item in row:\n",
    "            item = item.replace(\"'\", \"\").strip()\n",
    "            key, value = item.split(':', 1)\n",
    "            data_dict[key.strip()] = value.strip()\n",
    "        list_of_dictionaries.append(data_dict)\n",
    "\n",
    "    return list_of_dictionaries\n",
    "\n",
    "\n",
    "def create_new_column(column, df):\n",
    "    l = tranform_column(column)\n",
    "\n",
    "    danceability = []\n",
    "    energy = []\n",
    "    loudness = []\n",
    "    speechiness = []\n",
    "    acousticness = []\n",
    "    instrumentalness = []\n",
    "    liveness = []\n",
    "    valence = []\n",
    "    tempo = []\n",
    "\n",
    "    for dic in l:\n",
    "        danceability.append(dic['danceability'])\n",
    "        energy.append(dic['energy'])\n",
    "        loudness.append(dic['loudness'])\n",
    "        speechiness.append(dic['speechiness'])\n",
    "        acousticness.append(dic['acousticness'])\n",
    "        instrumentalness.append(dic['instrumentalness'])\n",
    "        liveness.append(dic['liveness'])\n",
    "        valence.append(dic['valence'])\n",
    "        tempo.append(dic['tempo'])\n",
    "\n",
    "    df['danceability'] = danceability\n",
    "    df['energy'] = energy\n",
    "    df['loudness'] = loudness\n",
    "    df['speechiness'] = speechiness\n",
    "    df['acousticness'] = acousticness\n",
    "    df['instrumentalness'] = instrumentalness\n",
    "    df['liveness'] = liveness\n",
    "    df['valence'] = valence\n",
    "    df['tempo'] = tempo\n",
    "\n",
    "    df.drop(columns=['other'], inplace=True)\n",
    "\n",
    "    return df\n",
    "\n",
    "def get_playlist_data(link, file_name): # tu będziemy otrzymać encodowane dane do rekomendacji i new_data czyli dane bez encodowania, które będą przydatne podczas analizy playlisty \n",
    "    extract(link, f'{file_name}.csv')\n",
    "    new_data = pd.read_csv(f'{file_name}.csv')\n",
    "    new_data.dropna(inplace=True, subset=['other'])\n",
    "    create_new_column(new_data['other'], new_data)\n",
    "    new_data.drop([new_data.columns[0]], axis=1, inplace=True)\n",
    "    new_data['year'] = new_data['release date'].apply(change_date)\n",
    "    new_data.drop(columns='release date', inplace=True)\n",
    "    new_data['track genre'].fillna('Inne', inplace=True)\n",
    "    new_data['new genre'] = new_data['track genre'].apply(change_genre)\n",
    "    new_data.drop(columns='track genre', inplace=True)\n",
    "    encoded_data = pd.get_dummies(new_data, columns=['new genre'], drop_first=True, dtype=int)\n",
    "    return encoded_data, new_data"
   ],
   "metadata": {
    "collapsed": false,
    "ExecuteTime": {
     "end_time": "2024-06-01T09:18:06.170002200Z",
     "start_time": "2024-06-01T09:18:05.710232200Z"
    }
   },
   "id": "e3d806b3397241d9",
   "execution_count": 26
  },
  {
   "cell_type": "code",
   "outputs": [
    {
     "name": "stderr",
     "output_type": "stream",
     "text": [
      "C:\\Users\\HP\\AppData\\Local\\Temp\\ipykernel_1672\\581378736.py:72: FutureWarning: A value is trying to be set on a copy of a DataFrame or Series through chained assignment using an inplace method.\n",
      "The behavior will change in pandas 3.0. This inplace method will never work because the intermediate object on which we are setting values always behaves as a copy.\n",
      "\n",
      "For example, when doing 'df[col].method(value, inplace=True)', try using 'df.method({col: value}, inplace=True)' or df[col] = df[col].method(value) instead, to perform the operation inplace on the original object.\n",
      "\n",
      "\n",
      "  new_data['track genre'].fillna('Inne', inplace=True)\n"
     ]
    }
   ],
   "source": [
    "rock_playlist = 'https://open.spotify.com/playlist/041EEjr8FMkWlzbuKnSXYD?si=161e174cef984d55'\n",
    "playlist_encoded, playlist = get_playlist_data(rock_playlist, 'rap_test')"
   ],
   "metadata": {
    "collapsed": false,
    "ExecuteTime": {
     "end_time": "2024-06-01T09:38:38.062276400Z",
     "start_time": "2024-06-01T09:38:19.721265800Z"
    }
   },
   "id": "c0f9a8f592e5a6af",
   "execution_count": 39
  },
  {
   "cell_type": "code",
   "outputs": [
    {
     "data": {
      "text/plain": "                                           track  \\\n0                                     In the End   \n1                    Have You Ever Seen The Rain   \n2                          Every Breath You Take   \n3                                     Chop Suey!   \n4                                Paint It, Black   \n5                                Highway to Hell   \n6                                       Dream On   \n7                            Killing In The Name   \n8                                Californication   \n9                                       Toxicity   \n10                                 Thunderstruck   \n11  (I Can't Get No) Satisfaction - Mono Version   \n12                     La Grange (2005 Remaster)   \n13                                    Can't Stop   \n14                     Immigrant Song - Remaster   \n15                                 Back In Black   \n16                                       Aerials   \n17                                     Free Bird   \n18                                     Otherside   \n19              Whole Lotta Love - 1990 Remaster   \n20                       The Kids Aren't Alright   \n21                   You Shook Me All Night Long   \n22                            Sweet Home Alabama   \n23                                 Fortunate Son   \n24                                 Walk This Way   \n25                    Paranoid - 2012 - Remaster   \n26                                        T.N.T.   \n27                 Start Me Up - Remastered 2009   \n28                                      B.Y.O.B.   \n29                               Born To Be Wild   \n30                      You're Gonna Go Far, Kid   \n31             Sharp Dressed Man (2008 Remaster)   \n32          Smoke On The Water - Remastered 2012   \n33                              Heart-Shaped Box   \n34                                 Snow (Hey Oh)   \n35                                 Sweet Emotion   \n36                                    Simple Man   \n37                                   Crazy Train   \n38                        Song 2 - 2012 Remaster   \n39                            Losing My Religion   \n40                                        Cryin'   \n41                                  Baba O'Riley   \n42                            Livin' On A Prayer   \n43                               Bulls On Parade   \n44                                   Hells Bells   \n45                          Black Dog - Remaster   \n46                                     Barracuda   \n47                                        Zombie   \n48                      You Give Love A Bad Name   \n49                                         Crazy   \n\n                          artist  \\\n0                    Linkin Park   \n1   Creedence Clearwater Revival   \n2                     The Police   \n3               System Of A Down   \n4             The Rolling Stones   \n5                          AC/DC   \n6                      Aerosmith   \n7       Rage Against The Machine   \n8          Red Hot Chili Peppers   \n9               System Of A Down   \n10                         AC/DC   \n11            The Rolling Stones   \n12                        ZZ Top   \n13         Red Hot Chili Peppers   \n14                  Led Zeppelin   \n15                         AC/DC   \n16              System Of A Down   \n17                Lynyrd Skynyrd   \n18         Red Hot Chili Peppers   \n19                  Led Zeppelin   \n20                 The Offspring   \n21                         AC/DC   \n22                Lynyrd Skynyrd   \n23  Creedence Clearwater Revival   \n24                     Aerosmith   \n25                 Black Sabbath   \n26                         AC/DC   \n27            The Rolling Stones   \n28              System Of A Down   \n29                   Steppenwolf   \n30                 The Offspring   \n31                        ZZ Top   \n32                   Deep Purple   \n33                       Nirvana   \n34         Red Hot Chili Peppers   \n35                     Aerosmith   \n36                Lynyrd Skynyrd   \n37                 Ozzy Osbourne   \n38                          Blur   \n39                        R.E.M.   \n40                     Aerosmith   \n41                       The Who   \n42                      Bon Jovi   \n43      Rage Against The Machine   \n44                         AC/DC   \n45                  Led Zeppelin   \n46                         Heart   \n47               The Cranberries   \n48                      Bon Jovi   \n49                     Aerosmith   \n\n                                                album  artist pop  track pop  \\\n0                       Hybrid Theory (Bonus Edition)          83         88   \n1                         Pendulum (Expanded Edition)          79         87   \n2                     Synchronicity (Remastered 2003)          74         88   \n3                                            Toxicity          78         85   \n4                                           Aftermath          77         84   \n5                                     Highway to Hell          80         86   \n6                                           Aerosmith          73         82   \n7   Rage Against The Machine - XX (20th Anniversar...          68         79   \n8                    Californication (Deluxe Edition)          80         83   \n9                                            Toxicity          78         82   \n10                                    The Razors Edge          80         86   \n11                                   Out Of Our Heads          77         78   \n12              Tres Hombres (Expanded 2006 Remaster)          68         80   \n13                        By the Way (Deluxe Edition)          80         85   \n14                        Led Zeppelin III (Remaster)          74         78   \n15                                      Back In Black          80         84   \n16                                           Toxicity          78         79   \n17                  Pronounced' Leh-'Nerd 'Skin-'Nerd          70         77   \n18                   Californication (Deluxe Edition)          80         80   \n19                    Led Zeppelin II (1994 Remaster)          74         74   \n20                                          Americana          75         83   \n21                                      Back In Black          80         85   \n22                  Second Helping (Expanded Edition)          70         81   \n23         Willy And The Poor Boys (Expanded Edition)          79         86   \n24                                  Toys In The Attic          73         74   \n25                                Paranoid (Remaster)          71         73   \n26                                       High Voltage          80         79   \n27                      Tattoo You (2009 Re-Mastered)          77         80   \n28                                          Mezmerize          78         77   \n29                                        Steppenwolf          59         73   \n30                      Rise And Fall, Rage And Grace          75         82   \n31                                         Eliminator          68         77   \n32                          Machine Head (Remastered)          63         72   \n33                          In Utero (Deluxe Edition)          79         79   \n34                                   Stadium Arcadium          80         81   \n35                                  Toys In The Attic          73         74   \n36                  Pronounced' Leh-'Nerd 'Skin-'Nerd          70         75   \n37  Blizzard Of Ozz (40th Anniversary Expanded Edi...          69         78   \n38                             Blur (Special Edition)          67         80   \n39             Out Of Time (25th Anniversary Edition)          70         83   \n40                                         Get A Grip          73         71   \n41                        Who's Next (Deluxe Edition)          65         75   \n42                                  Slippery When Wet          76         85   \n43                                        Evil Empire          68         74   \n44                                      Back In Black          80         75   \n45                   Led Zeppelin IV (Deluxe Edition)          74         71   \n46                                       Little Queen          65         75   \n47  No Need To Argue (The Complete Sessions 1994-1...          74         84   \n48                                  Slippery When Wet          76         83   \n49                                         Get A Grip          73         73   \n\n    duration danceability energy loudness speechiness acousticness  \\\n0     216880        0.556  0.864    -5.87      0.0584      0.00958   \n1     160133        0.741  0.697   -7.028      0.0277       0.0664   \n2     253920         0.82  0.452   -9.796      0.0348        0.543   \n3     210240        0.417  0.934   -3.908       0.119     0.000278   \n4     202266        0.464  0.795   -9.267      0.0926       0.0493   \n5     208400        0.574  0.913   -4.793       0.133        0.061   \n6     267596        0.392  0.476   -7.583      0.0249        0.397   \n7     313573        0.466  0.833   -4.215       0.304       0.0266   \n8     329733        0.592  0.767   -2.788       0.027       0.0021   \n9     218933        0.413  0.873   -4.151      0.0536     0.000264   \n10    292880        0.502   0.89   -5.175      0.0364     0.000147   \n11    222813        0.723  0.863    -7.89      0.0338       0.0383   \n12    230480        0.509  0.641   -9.936       0.264      0.00249   \n13    269000        0.618  0.938   -3.442      0.0456       0.0179   \n14    146250        0.564  0.932  -10.068      0.0554        0.013   \n15    255493         0.31    0.7   -5.678       0.047        0.011   \n16    235053        0.364  0.922   -4.217      0.0567     0.000915   \n17    547106        0.249  0.834    -8.21      0.0574       0.0742   \n18    255373        0.458  0.795   -3.265      0.0574      0.00316   \n19    333893        0.412  0.902    -11.6       0.405       0.0484   \n20    180160        0.523  0.943   -4.203      0.0337      0.00704   \n21    210173        0.532  0.767   -5.509      0.0574      0.00287   \n22    283800        0.596  0.606  -12.145      0.0255        0.181   \n23    140773         0.64  0.663   -7.516      0.0374        0.201   \n24    220310        0.653   0.73  -10.613      0.0429       0.0115   \n25    168405        0.412  0.658  -12.051      0.0708     4.52e-05   \n26    214666        0.754  0.759   -5.218       0.302        0.153   \n27    213066        0.631  0.932   -4.142      0.0354       0.0429   \n28    255466        0.538  0.981   -2.688        0.14      0.00662   \n29    210373        0.438   0.71  -12.412      0.0919        0.262   \n30    177826         0.55  0.917   -3.159      0.0638      0.00428   \n31    258026        0.601  0.859   -5.264      0.0276     0.000359   \n32    340742        0.598  0.676   -9.211      0.0279         0.13   \n33    281160        0.256  0.641  -10.283      0.0552        0.199   \n34    334666        0.427    0.9   -3.674      0.0499        0.116   \n35    274088        0.379   0.76  -10.961      0.0378      0.00298   \n36    356626        0.422  0.752   -8.682      0.0449       0.0366   \n37    293183        0.454  0.913   -4.008       0.107        0.408   \n38    121160        0.674  0.789   -6.903      0.0676      0.00178   \n39    268426        0.666  0.855   -5.051      0.0295        0.179   \n40    308560        0.452  0.813    -4.45      0.0319     8.31e-05   \n41    300400        0.489  0.724   -8.367      0.0352        0.313   \n42    249293        0.532  0.887   -3.757      0.0335       0.0778   \n43    229466        0.412  0.919   -7.291       0.184       0.0124   \n44    312293        0.389  0.873   -4.768      0.0475      0.00532   \n45    295386        0.437  0.864   -7.842      0.0904        0.396   \n46    261933        0.548  0.691  -13.553      0.0369        0.015   \n47    306440        0.309  0.649   -8.994       0.035       0.0158   \n48    222706        0.541  0.959   -2.947      0.0505       0.0663   \n49    316826        0.348  0.848   -4.674      0.0396       0.0454   \n\n   instrumentalness liveness valence    tempo  year new genre  \n0                 0    0.209     0.4  105.143  2000     metal  \n1          2.28e-05    0.133   0.774  116.109  1970      rock  \n2           0.00294   0.0714    0.74  117.401  1983      rock  \n3            0.0015    0.132   0.287  127.066  2001     metal  \n4           0.00244    0.399   0.612  158.691  1966      rock  \n5           0.00158    0.156   0.423  115.728  1979      rock  \n6          0.000163    0.309   0.234   78.031  1973      rock  \n7                 0   0.0327   0.661   88.785  1992     metal  \n8           0.00165    0.127   0.328   96.483  1999      rock  \n9           0.00249    0.204    0.48   116.68  2001     metal  \n10           0.0117    0.217   0.259   133.52  1990      rock  \n11           0.0317    0.128   0.931  136.302  1965      rock  \n12           0.0304    0.196   0.612   161.74  1973      rock  \n13                0    0.167   0.875   91.455  2002      rock  \n14            0.169    0.349   0.619  112.937  1970      rock  \n15          0.00965   0.0828   0.763  188.386  1980      rock  \n16           0.0346   0.0697   0.227   79.342  2001     metal  \n17         9.69e-05   0.0924   0.337  118.222  1973      rock  \n18         0.000202   0.0756   0.513  123.229  1999      rock  \n19            0.131    0.405   0.422    89.74  1969      rock  \n20         3.81e-05   0.0579   0.766   99.607  1998     metal  \n21         0.000513     0.39   0.755  127.361  1980      rock  \n22         0.000327   0.0863   0.886   97.785  1974      rock  \n23          0.00806    0.152   0.663   132.77  1969      rock  \n24         1.02e-05   0.0776   0.894  108.709  1975      rock  \n25         0.000774    0.176   0.454  163.071  1970      rock  \n26         0.000108    0.101   0.435  126.366  1976      rock  \n27            0.137   0.0918   0.971  122.431  1981      rock  \n28                0    0.219   0.711  101.414  2005     metal  \n29            0.537    0.221    0.53  145.928  1968      rock  \n30                0    0.197   0.601  126.115  2008     metal  \n31          0.00124   0.0871   0.446  125.144  1983      rock  \n32            0.225    0.112   0.805  114.169  1972      rock  \n33           0.0329   0.0853   0.382  203.006  1993     other  \n34         1.75e-05    0.119   0.599  104.655  2006      rock  \n35           0.0296    0.104   0.491   99.436  1975      rock  \n36         0.000119    0.129   0.404   120.47  1973      rock  \n37         0.000271    0.248   0.521  137.688  2020      rock  \n38          0.00708   0.0753   0.918  129.802  1997      rock  \n39          1.2e-06   0.0987   0.803  125.639  1991      rock  \n40           0.0381    0.274   0.539  105.757  1993      rock  \n41            0.185    0.287    0.15  117.292  1971      rock  \n42         0.000206    0.294   0.794  122.509  1986     metal  \n43           0.0601    0.424   0.572  166.367  1996     metal  \n44           0.0055    0.273   0.303  106.767  1980      rock  \n45           0.0314    0.242   0.749   81.394  1971      rock  \n46            0.106    0.144   0.667  137.145  1977      rock  \n47          0.00591    0.367   0.312  166.915  1994      rock  \n48         2.18e-06    0.344   0.812  122.805  1986     metal  \n49                0    0.143   0.486  162.189  1993      rock  ",
      "text/html": "<div>\n<style scoped>\n    .dataframe tbody tr th:only-of-type {\n        vertical-align: middle;\n    }\n\n    .dataframe tbody tr th {\n        vertical-align: top;\n    }\n\n    .dataframe thead th {\n        text-align: right;\n    }\n</style>\n<table border=\"1\" class=\"dataframe\">\n  <thead>\n    <tr style=\"text-align: right;\">\n      <th></th>\n      <th>track</th>\n      <th>artist</th>\n      <th>album</th>\n      <th>artist pop</th>\n      <th>track pop</th>\n      <th>duration</th>\n      <th>danceability</th>\n      <th>energy</th>\n      <th>loudness</th>\n      <th>speechiness</th>\n      <th>acousticness</th>\n      <th>instrumentalness</th>\n      <th>liveness</th>\n      <th>valence</th>\n      <th>tempo</th>\n      <th>year</th>\n      <th>new genre</th>\n    </tr>\n  </thead>\n  <tbody>\n    <tr>\n      <th>0</th>\n      <td>In the End</td>\n      <td>Linkin Park</td>\n      <td>Hybrid Theory (Bonus Edition)</td>\n      <td>83</td>\n      <td>88</td>\n      <td>216880</td>\n      <td>0.556</td>\n      <td>0.864</td>\n      <td>-5.87</td>\n      <td>0.0584</td>\n      <td>0.00958</td>\n      <td>0</td>\n      <td>0.209</td>\n      <td>0.4</td>\n      <td>105.143</td>\n      <td>2000</td>\n      <td>metal</td>\n    </tr>\n    <tr>\n      <th>1</th>\n      <td>Have You Ever Seen The Rain</td>\n      <td>Creedence Clearwater Revival</td>\n      <td>Pendulum (Expanded Edition)</td>\n      <td>79</td>\n      <td>87</td>\n      <td>160133</td>\n      <td>0.741</td>\n      <td>0.697</td>\n      <td>-7.028</td>\n      <td>0.0277</td>\n      <td>0.0664</td>\n      <td>2.28e-05</td>\n      <td>0.133</td>\n      <td>0.774</td>\n      <td>116.109</td>\n      <td>1970</td>\n      <td>rock</td>\n    </tr>\n    <tr>\n      <th>2</th>\n      <td>Every Breath You Take</td>\n      <td>The Police</td>\n      <td>Synchronicity (Remastered 2003)</td>\n      <td>74</td>\n      <td>88</td>\n      <td>253920</td>\n      <td>0.82</td>\n      <td>0.452</td>\n      <td>-9.796</td>\n      <td>0.0348</td>\n      <td>0.543</td>\n      <td>0.00294</td>\n      <td>0.0714</td>\n      <td>0.74</td>\n      <td>117.401</td>\n      <td>1983</td>\n      <td>rock</td>\n    </tr>\n    <tr>\n      <th>3</th>\n      <td>Chop Suey!</td>\n      <td>System Of A Down</td>\n      <td>Toxicity</td>\n      <td>78</td>\n      <td>85</td>\n      <td>210240</td>\n      <td>0.417</td>\n      <td>0.934</td>\n      <td>-3.908</td>\n      <td>0.119</td>\n      <td>0.000278</td>\n      <td>0.0015</td>\n      <td>0.132</td>\n      <td>0.287</td>\n      <td>127.066</td>\n      <td>2001</td>\n      <td>metal</td>\n    </tr>\n    <tr>\n      <th>4</th>\n      <td>Paint It, Black</td>\n      <td>The Rolling Stones</td>\n      <td>Aftermath</td>\n      <td>77</td>\n      <td>84</td>\n      <td>202266</td>\n      <td>0.464</td>\n      <td>0.795</td>\n      <td>-9.267</td>\n      <td>0.0926</td>\n      <td>0.0493</td>\n      <td>0.00244</td>\n      <td>0.399</td>\n      <td>0.612</td>\n      <td>158.691</td>\n      <td>1966</td>\n      <td>rock</td>\n    </tr>\n    <tr>\n      <th>5</th>\n      <td>Highway to Hell</td>\n      <td>AC/DC</td>\n      <td>Highway to Hell</td>\n      <td>80</td>\n      <td>86</td>\n      <td>208400</td>\n      <td>0.574</td>\n      <td>0.913</td>\n      <td>-4.793</td>\n      <td>0.133</td>\n      <td>0.061</td>\n      <td>0.00158</td>\n      <td>0.156</td>\n      <td>0.423</td>\n      <td>115.728</td>\n      <td>1979</td>\n      <td>rock</td>\n    </tr>\n    <tr>\n      <th>6</th>\n      <td>Dream On</td>\n      <td>Aerosmith</td>\n      <td>Aerosmith</td>\n      <td>73</td>\n      <td>82</td>\n      <td>267596</td>\n      <td>0.392</td>\n      <td>0.476</td>\n      <td>-7.583</td>\n      <td>0.0249</td>\n      <td>0.397</td>\n      <td>0.000163</td>\n      <td>0.309</td>\n      <td>0.234</td>\n      <td>78.031</td>\n      <td>1973</td>\n      <td>rock</td>\n    </tr>\n    <tr>\n      <th>7</th>\n      <td>Killing In The Name</td>\n      <td>Rage Against The Machine</td>\n      <td>Rage Against The Machine - XX (20th Anniversar...</td>\n      <td>68</td>\n      <td>79</td>\n      <td>313573</td>\n      <td>0.466</td>\n      <td>0.833</td>\n      <td>-4.215</td>\n      <td>0.304</td>\n      <td>0.0266</td>\n      <td>0</td>\n      <td>0.0327</td>\n      <td>0.661</td>\n      <td>88.785</td>\n      <td>1992</td>\n      <td>metal</td>\n    </tr>\n    <tr>\n      <th>8</th>\n      <td>Californication</td>\n      <td>Red Hot Chili Peppers</td>\n      <td>Californication (Deluxe Edition)</td>\n      <td>80</td>\n      <td>83</td>\n      <td>329733</td>\n      <td>0.592</td>\n      <td>0.767</td>\n      <td>-2.788</td>\n      <td>0.027</td>\n      <td>0.0021</td>\n      <td>0.00165</td>\n      <td>0.127</td>\n      <td>0.328</td>\n      <td>96.483</td>\n      <td>1999</td>\n      <td>rock</td>\n    </tr>\n    <tr>\n      <th>9</th>\n      <td>Toxicity</td>\n      <td>System Of A Down</td>\n      <td>Toxicity</td>\n      <td>78</td>\n      <td>82</td>\n      <td>218933</td>\n      <td>0.413</td>\n      <td>0.873</td>\n      <td>-4.151</td>\n      <td>0.0536</td>\n      <td>0.000264</td>\n      <td>0.00249</td>\n      <td>0.204</td>\n      <td>0.48</td>\n      <td>116.68</td>\n      <td>2001</td>\n      <td>metal</td>\n    </tr>\n    <tr>\n      <th>10</th>\n      <td>Thunderstruck</td>\n      <td>AC/DC</td>\n      <td>The Razors Edge</td>\n      <td>80</td>\n      <td>86</td>\n      <td>292880</td>\n      <td>0.502</td>\n      <td>0.89</td>\n      <td>-5.175</td>\n      <td>0.0364</td>\n      <td>0.000147</td>\n      <td>0.0117</td>\n      <td>0.217</td>\n      <td>0.259</td>\n      <td>133.52</td>\n      <td>1990</td>\n      <td>rock</td>\n    </tr>\n    <tr>\n      <th>11</th>\n      <td>(I Can't Get No) Satisfaction - Mono Version</td>\n      <td>The Rolling Stones</td>\n      <td>Out Of Our Heads</td>\n      <td>77</td>\n      <td>78</td>\n      <td>222813</td>\n      <td>0.723</td>\n      <td>0.863</td>\n      <td>-7.89</td>\n      <td>0.0338</td>\n      <td>0.0383</td>\n      <td>0.0317</td>\n      <td>0.128</td>\n      <td>0.931</td>\n      <td>136.302</td>\n      <td>1965</td>\n      <td>rock</td>\n    </tr>\n    <tr>\n      <th>12</th>\n      <td>La Grange (2005 Remaster)</td>\n      <td>ZZ Top</td>\n      <td>Tres Hombres (Expanded 2006 Remaster)</td>\n      <td>68</td>\n      <td>80</td>\n      <td>230480</td>\n      <td>0.509</td>\n      <td>0.641</td>\n      <td>-9.936</td>\n      <td>0.264</td>\n      <td>0.00249</td>\n      <td>0.0304</td>\n      <td>0.196</td>\n      <td>0.612</td>\n      <td>161.74</td>\n      <td>1973</td>\n      <td>rock</td>\n    </tr>\n    <tr>\n      <th>13</th>\n      <td>Can't Stop</td>\n      <td>Red Hot Chili Peppers</td>\n      <td>By the Way (Deluxe Edition)</td>\n      <td>80</td>\n      <td>85</td>\n      <td>269000</td>\n      <td>0.618</td>\n      <td>0.938</td>\n      <td>-3.442</td>\n      <td>0.0456</td>\n      <td>0.0179</td>\n      <td>0</td>\n      <td>0.167</td>\n      <td>0.875</td>\n      <td>91.455</td>\n      <td>2002</td>\n      <td>rock</td>\n    </tr>\n    <tr>\n      <th>14</th>\n      <td>Immigrant Song - Remaster</td>\n      <td>Led Zeppelin</td>\n      <td>Led Zeppelin III (Remaster)</td>\n      <td>74</td>\n      <td>78</td>\n      <td>146250</td>\n      <td>0.564</td>\n      <td>0.932</td>\n      <td>-10.068</td>\n      <td>0.0554</td>\n      <td>0.013</td>\n      <td>0.169</td>\n      <td>0.349</td>\n      <td>0.619</td>\n      <td>112.937</td>\n      <td>1970</td>\n      <td>rock</td>\n    </tr>\n    <tr>\n      <th>15</th>\n      <td>Back In Black</td>\n      <td>AC/DC</td>\n      <td>Back In Black</td>\n      <td>80</td>\n      <td>84</td>\n      <td>255493</td>\n      <td>0.31</td>\n      <td>0.7</td>\n      <td>-5.678</td>\n      <td>0.047</td>\n      <td>0.011</td>\n      <td>0.00965</td>\n      <td>0.0828</td>\n      <td>0.763</td>\n      <td>188.386</td>\n      <td>1980</td>\n      <td>rock</td>\n    </tr>\n    <tr>\n      <th>16</th>\n      <td>Aerials</td>\n      <td>System Of A Down</td>\n      <td>Toxicity</td>\n      <td>78</td>\n      <td>79</td>\n      <td>235053</td>\n      <td>0.364</td>\n      <td>0.922</td>\n      <td>-4.217</td>\n      <td>0.0567</td>\n      <td>0.000915</td>\n      <td>0.0346</td>\n      <td>0.0697</td>\n      <td>0.227</td>\n      <td>79.342</td>\n      <td>2001</td>\n      <td>metal</td>\n    </tr>\n    <tr>\n      <th>17</th>\n      <td>Free Bird</td>\n      <td>Lynyrd Skynyrd</td>\n      <td>Pronounced' Leh-'Nerd 'Skin-'Nerd</td>\n      <td>70</td>\n      <td>77</td>\n      <td>547106</td>\n      <td>0.249</td>\n      <td>0.834</td>\n      <td>-8.21</td>\n      <td>0.0574</td>\n      <td>0.0742</td>\n      <td>9.69e-05</td>\n      <td>0.0924</td>\n      <td>0.337</td>\n      <td>118.222</td>\n      <td>1973</td>\n      <td>rock</td>\n    </tr>\n    <tr>\n      <th>18</th>\n      <td>Otherside</td>\n      <td>Red Hot Chili Peppers</td>\n      <td>Californication (Deluxe Edition)</td>\n      <td>80</td>\n      <td>80</td>\n      <td>255373</td>\n      <td>0.458</td>\n      <td>0.795</td>\n      <td>-3.265</td>\n      <td>0.0574</td>\n      <td>0.00316</td>\n      <td>0.000202</td>\n      <td>0.0756</td>\n      <td>0.513</td>\n      <td>123.229</td>\n      <td>1999</td>\n      <td>rock</td>\n    </tr>\n    <tr>\n      <th>19</th>\n      <td>Whole Lotta Love - 1990 Remaster</td>\n      <td>Led Zeppelin</td>\n      <td>Led Zeppelin II (1994 Remaster)</td>\n      <td>74</td>\n      <td>74</td>\n      <td>333893</td>\n      <td>0.412</td>\n      <td>0.902</td>\n      <td>-11.6</td>\n      <td>0.405</td>\n      <td>0.0484</td>\n      <td>0.131</td>\n      <td>0.405</td>\n      <td>0.422</td>\n      <td>89.74</td>\n      <td>1969</td>\n      <td>rock</td>\n    </tr>\n    <tr>\n      <th>20</th>\n      <td>The Kids Aren't Alright</td>\n      <td>The Offspring</td>\n      <td>Americana</td>\n      <td>75</td>\n      <td>83</td>\n      <td>180160</td>\n      <td>0.523</td>\n      <td>0.943</td>\n      <td>-4.203</td>\n      <td>0.0337</td>\n      <td>0.00704</td>\n      <td>3.81e-05</td>\n      <td>0.0579</td>\n      <td>0.766</td>\n      <td>99.607</td>\n      <td>1998</td>\n      <td>metal</td>\n    </tr>\n    <tr>\n      <th>21</th>\n      <td>You Shook Me All Night Long</td>\n      <td>AC/DC</td>\n      <td>Back In Black</td>\n      <td>80</td>\n      <td>85</td>\n      <td>210173</td>\n      <td>0.532</td>\n      <td>0.767</td>\n      <td>-5.509</td>\n      <td>0.0574</td>\n      <td>0.00287</td>\n      <td>0.000513</td>\n      <td>0.39</td>\n      <td>0.755</td>\n      <td>127.361</td>\n      <td>1980</td>\n      <td>rock</td>\n    </tr>\n    <tr>\n      <th>22</th>\n      <td>Sweet Home Alabama</td>\n      <td>Lynyrd Skynyrd</td>\n      <td>Second Helping (Expanded Edition)</td>\n      <td>70</td>\n      <td>81</td>\n      <td>283800</td>\n      <td>0.596</td>\n      <td>0.606</td>\n      <td>-12.145</td>\n      <td>0.0255</td>\n      <td>0.181</td>\n      <td>0.000327</td>\n      <td>0.0863</td>\n      <td>0.886</td>\n      <td>97.785</td>\n      <td>1974</td>\n      <td>rock</td>\n    </tr>\n    <tr>\n      <th>23</th>\n      <td>Fortunate Son</td>\n      <td>Creedence Clearwater Revival</td>\n      <td>Willy And The Poor Boys (Expanded Edition)</td>\n      <td>79</td>\n      <td>86</td>\n      <td>140773</td>\n      <td>0.64</td>\n      <td>0.663</td>\n      <td>-7.516</td>\n      <td>0.0374</td>\n      <td>0.201</td>\n      <td>0.00806</td>\n      <td>0.152</td>\n      <td>0.663</td>\n      <td>132.77</td>\n      <td>1969</td>\n      <td>rock</td>\n    </tr>\n    <tr>\n      <th>24</th>\n      <td>Walk This Way</td>\n      <td>Aerosmith</td>\n      <td>Toys In The Attic</td>\n      <td>73</td>\n      <td>74</td>\n      <td>220310</td>\n      <td>0.653</td>\n      <td>0.73</td>\n      <td>-10.613</td>\n      <td>0.0429</td>\n      <td>0.0115</td>\n      <td>1.02e-05</td>\n      <td>0.0776</td>\n      <td>0.894</td>\n      <td>108.709</td>\n      <td>1975</td>\n      <td>rock</td>\n    </tr>\n    <tr>\n      <th>25</th>\n      <td>Paranoid - 2012 - Remaster</td>\n      <td>Black Sabbath</td>\n      <td>Paranoid (Remaster)</td>\n      <td>71</td>\n      <td>73</td>\n      <td>168405</td>\n      <td>0.412</td>\n      <td>0.658</td>\n      <td>-12.051</td>\n      <td>0.0708</td>\n      <td>4.52e-05</td>\n      <td>0.000774</td>\n      <td>0.176</td>\n      <td>0.454</td>\n      <td>163.071</td>\n      <td>1970</td>\n      <td>rock</td>\n    </tr>\n    <tr>\n      <th>26</th>\n      <td>T.N.T.</td>\n      <td>AC/DC</td>\n      <td>High Voltage</td>\n      <td>80</td>\n      <td>79</td>\n      <td>214666</td>\n      <td>0.754</td>\n      <td>0.759</td>\n      <td>-5.218</td>\n      <td>0.302</td>\n      <td>0.153</td>\n      <td>0.000108</td>\n      <td>0.101</td>\n      <td>0.435</td>\n      <td>126.366</td>\n      <td>1976</td>\n      <td>rock</td>\n    </tr>\n    <tr>\n      <th>27</th>\n      <td>Start Me Up - Remastered 2009</td>\n      <td>The Rolling Stones</td>\n      <td>Tattoo You (2009 Re-Mastered)</td>\n      <td>77</td>\n      <td>80</td>\n      <td>213066</td>\n      <td>0.631</td>\n      <td>0.932</td>\n      <td>-4.142</td>\n      <td>0.0354</td>\n      <td>0.0429</td>\n      <td>0.137</td>\n      <td>0.0918</td>\n      <td>0.971</td>\n      <td>122.431</td>\n      <td>1981</td>\n      <td>rock</td>\n    </tr>\n    <tr>\n      <th>28</th>\n      <td>B.Y.O.B.</td>\n      <td>System Of A Down</td>\n      <td>Mezmerize</td>\n      <td>78</td>\n      <td>77</td>\n      <td>255466</td>\n      <td>0.538</td>\n      <td>0.981</td>\n      <td>-2.688</td>\n      <td>0.14</td>\n      <td>0.00662</td>\n      <td>0</td>\n      <td>0.219</td>\n      <td>0.711</td>\n      <td>101.414</td>\n      <td>2005</td>\n      <td>metal</td>\n    </tr>\n    <tr>\n      <th>29</th>\n      <td>Born To Be Wild</td>\n      <td>Steppenwolf</td>\n      <td>Steppenwolf</td>\n      <td>59</td>\n      <td>73</td>\n      <td>210373</td>\n      <td>0.438</td>\n      <td>0.71</td>\n      <td>-12.412</td>\n      <td>0.0919</td>\n      <td>0.262</td>\n      <td>0.537</td>\n      <td>0.221</td>\n      <td>0.53</td>\n      <td>145.928</td>\n      <td>1968</td>\n      <td>rock</td>\n    </tr>\n    <tr>\n      <th>30</th>\n      <td>You're Gonna Go Far, Kid</td>\n      <td>The Offspring</td>\n      <td>Rise And Fall, Rage And Grace</td>\n      <td>75</td>\n      <td>82</td>\n      <td>177826</td>\n      <td>0.55</td>\n      <td>0.917</td>\n      <td>-3.159</td>\n      <td>0.0638</td>\n      <td>0.00428</td>\n      <td>0</td>\n      <td>0.197</td>\n      <td>0.601</td>\n      <td>126.115</td>\n      <td>2008</td>\n      <td>metal</td>\n    </tr>\n    <tr>\n      <th>31</th>\n      <td>Sharp Dressed Man (2008 Remaster)</td>\n      <td>ZZ Top</td>\n      <td>Eliminator</td>\n      <td>68</td>\n      <td>77</td>\n      <td>258026</td>\n      <td>0.601</td>\n      <td>0.859</td>\n      <td>-5.264</td>\n      <td>0.0276</td>\n      <td>0.000359</td>\n      <td>0.00124</td>\n      <td>0.0871</td>\n      <td>0.446</td>\n      <td>125.144</td>\n      <td>1983</td>\n      <td>rock</td>\n    </tr>\n    <tr>\n      <th>32</th>\n      <td>Smoke On The Water - Remastered 2012</td>\n      <td>Deep Purple</td>\n      <td>Machine Head (Remastered)</td>\n      <td>63</td>\n      <td>72</td>\n      <td>340742</td>\n      <td>0.598</td>\n      <td>0.676</td>\n      <td>-9.211</td>\n      <td>0.0279</td>\n      <td>0.13</td>\n      <td>0.225</td>\n      <td>0.112</td>\n      <td>0.805</td>\n      <td>114.169</td>\n      <td>1972</td>\n      <td>rock</td>\n    </tr>\n    <tr>\n      <th>33</th>\n      <td>Heart-Shaped Box</td>\n      <td>Nirvana</td>\n      <td>In Utero (Deluxe Edition)</td>\n      <td>79</td>\n      <td>79</td>\n      <td>281160</td>\n      <td>0.256</td>\n      <td>0.641</td>\n      <td>-10.283</td>\n      <td>0.0552</td>\n      <td>0.199</td>\n      <td>0.0329</td>\n      <td>0.0853</td>\n      <td>0.382</td>\n      <td>203.006</td>\n      <td>1993</td>\n      <td>other</td>\n    </tr>\n    <tr>\n      <th>34</th>\n      <td>Snow (Hey Oh)</td>\n      <td>Red Hot Chili Peppers</td>\n      <td>Stadium Arcadium</td>\n      <td>80</td>\n      <td>81</td>\n      <td>334666</td>\n      <td>0.427</td>\n      <td>0.9</td>\n      <td>-3.674</td>\n      <td>0.0499</td>\n      <td>0.116</td>\n      <td>1.75e-05</td>\n      <td>0.119</td>\n      <td>0.599</td>\n      <td>104.655</td>\n      <td>2006</td>\n      <td>rock</td>\n    </tr>\n    <tr>\n      <th>35</th>\n      <td>Sweet Emotion</td>\n      <td>Aerosmith</td>\n      <td>Toys In The Attic</td>\n      <td>73</td>\n      <td>74</td>\n      <td>274088</td>\n      <td>0.379</td>\n      <td>0.76</td>\n      <td>-10.961</td>\n      <td>0.0378</td>\n      <td>0.00298</td>\n      <td>0.0296</td>\n      <td>0.104</td>\n      <td>0.491</td>\n      <td>99.436</td>\n      <td>1975</td>\n      <td>rock</td>\n    </tr>\n    <tr>\n      <th>36</th>\n      <td>Simple Man</td>\n      <td>Lynyrd Skynyrd</td>\n      <td>Pronounced' Leh-'Nerd 'Skin-'Nerd</td>\n      <td>70</td>\n      <td>75</td>\n      <td>356626</td>\n      <td>0.422</td>\n      <td>0.752</td>\n      <td>-8.682</td>\n      <td>0.0449</td>\n      <td>0.0366</td>\n      <td>0.000119</td>\n      <td>0.129</td>\n      <td>0.404</td>\n      <td>120.47</td>\n      <td>1973</td>\n      <td>rock</td>\n    </tr>\n    <tr>\n      <th>37</th>\n      <td>Crazy Train</td>\n      <td>Ozzy Osbourne</td>\n      <td>Blizzard Of Ozz (40th Anniversary Expanded Edi...</td>\n      <td>69</td>\n      <td>78</td>\n      <td>293183</td>\n      <td>0.454</td>\n      <td>0.913</td>\n      <td>-4.008</td>\n      <td>0.107</td>\n      <td>0.408</td>\n      <td>0.000271</td>\n      <td>0.248</td>\n      <td>0.521</td>\n      <td>137.688</td>\n      <td>2020</td>\n      <td>rock</td>\n    </tr>\n    <tr>\n      <th>38</th>\n      <td>Song 2 - 2012 Remaster</td>\n      <td>Blur</td>\n      <td>Blur (Special Edition)</td>\n      <td>67</td>\n      <td>80</td>\n      <td>121160</td>\n      <td>0.674</td>\n      <td>0.789</td>\n      <td>-6.903</td>\n      <td>0.0676</td>\n      <td>0.00178</td>\n      <td>0.00708</td>\n      <td>0.0753</td>\n      <td>0.918</td>\n      <td>129.802</td>\n      <td>1997</td>\n      <td>rock</td>\n    </tr>\n    <tr>\n      <th>39</th>\n      <td>Losing My Religion</td>\n      <td>R.E.M.</td>\n      <td>Out Of Time (25th Anniversary Edition)</td>\n      <td>70</td>\n      <td>83</td>\n      <td>268426</td>\n      <td>0.666</td>\n      <td>0.855</td>\n      <td>-5.051</td>\n      <td>0.0295</td>\n      <td>0.179</td>\n      <td>1.2e-06</td>\n      <td>0.0987</td>\n      <td>0.803</td>\n      <td>125.639</td>\n      <td>1991</td>\n      <td>rock</td>\n    </tr>\n    <tr>\n      <th>40</th>\n      <td>Cryin'</td>\n      <td>Aerosmith</td>\n      <td>Get A Grip</td>\n      <td>73</td>\n      <td>71</td>\n      <td>308560</td>\n      <td>0.452</td>\n      <td>0.813</td>\n      <td>-4.45</td>\n      <td>0.0319</td>\n      <td>8.31e-05</td>\n      <td>0.0381</td>\n      <td>0.274</td>\n      <td>0.539</td>\n      <td>105.757</td>\n      <td>1993</td>\n      <td>rock</td>\n    </tr>\n    <tr>\n      <th>41</th>\n      <td>Baba O'Riley</td>\n      <td>The Who</td>\n      <td>Who's Next (Deluxe Edition)</td>\n      <td>65</td>\n      <td>75</td>\n      <td>300400</td>\n      <td>0.489</td>\n      <td>0.724</td>\n      <td>-8.367</td>\n      <td>0.0352</td>\n      <td>0.313</td>\n      <td>0.185</td>\n      <td>0.287</td>\n      <td>0.15</td>\n      <td>117.292</td>\n      <td>1971</td>\n      <td>rock</td>\n    </tr>\n    <tr>\n      <th>42</th>\n      <td>Livin' On A Prayer</td>\n      <td>Bon Jovi</td>\n      <td>Slippery When Wet</td>\n      <td>76</td>\n      <td>85</td>\n      <td>249293</td>\n      <td>0.532</td>\n      <td>0.887</td>\n      <td>-3.757</td>\n      <td>0.0335</td>\n      <td>0.0778</td>\n      <td>0.000206</td>\n      <td>0.294</td>\n      <td>0.794</td>\n      <td>122.509</td>\n      <td>1986</td>\n      <td>metal</td>\n    </tr>\n    <tr>\n      <th>43</th>\n      <td>Bulls On Parade</td>\n      <td>Rage Against The Machine</td>\n      <td>Evil Empire</td>\n      <td>68</td>\n      <td>74</td>\n      <td>229466</td>\n      <td>0.412</td>\n      <td>0.919</td>\n      <td>-7.291</td>\n      <td>0.184</td>\n      <td>0.0124</td>\n      <td>0.0601</td>\n      <td>0.424</td>\n      <td>0.572</td>\n      <td>166.367</td>\n      <td>1996</td>\n      <td>metal</td>\n    </tr>\n    <tr>\n      <th>44</th>\n      <td>Hells Bells</td>\n      <td>AC/DC</td>\n      <td>Back In Black</td>\n      <td>80</td>\n      <td>75</td>\n      <td>312293</td>\n      <td>0.389</td>\n      <td>0.873</td>\n      <td>-4.768</td>\n      <td>0.0475</td>\n      <td>0.00532</td>\n      <td>0.0055</td>\n      <td>0.273</td>\n      <td>0.303</td>\n      <td>106.767</td>\n      <td>1980</td>\n      <td>rock</td>\n    </tr>\n    <tr>\n      <th>45</th>\n      <td>Black Dog - Remaster</td>\n      <td>Led Zeppelin</td>\n      <td>Led Zeppelin IV (Deluxe Edition)</td>\n      <td>74</td>\n      <td>71</td>\n      <td>295386</td>\n      <td>0.437</td>\n      <td>0.864</td>\n      <td>-7.842</td>\n      <td>0.0904</td>\n      <td>0.396</td>\n      <td>0.0314</td>\n      <td>0.242</td>\n      <td>0.749</td>\n      <td>81.394</td>\n      <td>1971</td>\n      <td>rock</td>\n    </tr>\n    <tr>\n      <th>46</th>\n      <td>Barracuda</td>\n      <td>Heart</td>\n      <td>Little Queen</td>\n      <td>65</td>\n      <td>75</td>\n      <td>261933</td>\n      <td>0.548</td>\n      <td>0.691</td>\n      <td>-13.553</td>\n      <td>0.0369</td>\n      <td>0.015</td>\n      <td>0.106</td>\n      <td>0.144</td>\n      <td>0.667</td>\n      <td>137.145</td>\n      <td>1977</td>\n      <td>rock</td>\n    </tr>\n    <tr>\n      <th>47</th>\n      <td>Zombie</td>\n      <td>The Cranberries</td>\n      <td>No Need To Argue (The Complete Sessions 1994-1...</td>\n      <td>74</td>\n      <td>84</td>\n      <td>306440</td>\n      <td>0.309</td>\n      <td>0.649</td>\n      <td>-8.994</td>\n      <td>0.035</td>\n      <td>0.0158</td>\n      <td>0.00591</td>\n      <td>0.367</td>\n      <td>0.312</td>\n      <td>166.915</td>\n      <td>1994</td>\n      <td>rock</td>\n    </tr>\n    <tr>\n      <th>48</th>\n      <td>You Give Love A Bad Name</td>\n      <td>Bon Jovi</td>\n      <td>Slippery When Wet</td>\n      <td>76</td>\n      <td>83</td>\n      <td>222706</td>\n      <td>0.541</td>\n      <td>0.959</td>\n      <td>-2.947</td>\n      <td>0.0505</td>\n      <td>0.0663</td>\n      <td>2.18e-06</td>\n      <td>0.344</td>\n      <td>0.812</td>\n      <td>122.805</td>\n      <td>1986</td>\n      <td>metal</td>\n    </tr>\n    <tr>\n      <th>49</th>\n      <td>Crazy</td>\n      <td>Aerosmith</td>\n      <td>Get A Grip</td>\n      <td>73</td>\n      <td>73</td>\n      <td>316826</td>\n      <td>0.348</td>\n      <td>0.848</td>\n      <td>-4.674</td>\n      <td>0.0396</td>\n      <td>0.0454</td>\n      <td>0</td>\n      <td>0.143</td>\n      <td>0.486</td>\n      <td>162.189</td>\n      <td>1993</td>\n      <td>rock</td>\n    </tr>\n  </tbody>\n</table>\n</div>"
     },
     "execution_count": 30,
     "metadata": {},
     "output_type": "execute_result"
    }
   ],
   "source": [
    "playlist"
   ],
   "metadata": {
    "collapsed": false,
    "ExecuteTime": {
     "end_time": "2024-06-01T09:19:19.220770500Z",
     "start_time": "2024-06-01T09:19:19.078154Z"
    }
   },
   "id": "ab2dcf3b9506d238",
   "execution_count": 30
  },
  {
   "cell_type": "code",
   "outputs": [],
   "source": [
    "playlist_num = playlist_encoded.drop(columns=['artist', 'album', 'track'])"
   ],
   "metadata": {
    "collapsed": false,
    "ExecuteTime": {
     "end_time": "2024-06-01T09:38:45.959400100Z",
     "start_time": "2024-06-01T09:38:45.915517300Z"
    }
   },
   "id": "682f64a10d72b283",
   "execution_count": 40
  },
  {
   "cell_type": "code",
   "outputs": [],
   "source": [
    "from sklearn.preprocessing import MinMaxScaler\n",
    "\n",
    "def scale_data(data, column_names):\n",
    "    df = pd.DataFrame(data, columns=column_names)\n",
    "    scaler = MinMaxScaler()\n",
    "    scaled_data = scaler.fit_transform(df)\n",
    "    scaled_df = pd.DataFrame(scaled_data, columns=column_names)\n",
    "    return scaled_df"
   ],
   "metadata": {
    "collapsed": false,
    "ExecuteTime": {
     "end_time": "2024-06-01T09:38:46.977674400Z",
     "start_time": "2024-06-01T09:38:46.954736500Z"
    }
   },
   "id": "4f2a2b8df09a7703",
   "execution_count": 41
  },
  {
   "cell_type": "code",
   "outputs": [],
   "source": [
    "scaled_playlist = scale_data(data=playlist_num, column_names=playlist_num.columns)"
   ],
   "metadata": {
    "collapsed": false,
    "ExecuteTime": {
     "end_time": "2024-06-01T09:38:47.719690800Z",
     "start_time": "2024-06-01T09:38:47.676805800Z"
    }
   },
   "id": "2f8ceb24483c685",
   "execution_count": 42
  },
  {
   "cell_type": "code",
   "outputs": [],
   "source": [
    "spotify_data = pd.read_csv('spotify_data_encoded2.csv')\n",
    "spotify_data.drop([spotify_data.columns[0]], axis=1, inplace=True)\n",
    "spotify_data_num = spotify_data.drop(columns=['track', 'artist', 'album'])\n",
    "spotify_data_scaled = scale_data(spotify_data_num, spotify_data_num.columns)"
   ],
   "metadata": {
    "collapsed": false,
    "ExecuteTime": {
     "end_time": "2024-06-01T09:38:48.401866500Z",
     "start_time": "2024-06-01T09:38:48.332055600Z"
    }
   },
   "id": "16fe1d102f372fa6",
   "execution_count": 43
  },
  {
   "cell_type": "markdown",
   "source": [
    "# Liczenie średnich wartości"
   ],
   "metadata": {
    "collapsed": false
   },
   "id": "a9645255f33e24fc"
  },
  {
   "cell_type": "code",
   "outputs": [
    {
     "data": {
      "text/plain": "         artist pop  track pop  duration  danceability    energy  loudness  \\\nAverage    0.692043   0.662159  0.423539      0.652978  0.395312  0.509461   \n\n         speechiness  acousticness  instrumentalness  liveness   valence  \\\nAverage     0.345078       0.19043           0.01732  0.209487  0.414427   \n\n            tempo      year  new genre_other  new genre_pop  new genre_rap  \nAverage  0.447205  0.702143             0.32           0.02           0.29  ",
      "text/html": "<div>\n<style scoped>\n    .dataframe tbody tr th:only-of-type {\n        vertical-align: middle;\n    }\n\n    .dataframe tbody tr th {\n        vertical-align: top;\n    }\n\n    .dataframe thead th {\n        text-align: right;\n    }\n</style>\n<table border=\"1\" class=\"dataframe\">\n  <thead>\n    <tr style=\"text-align: right;\">\n      <th></th>\n      <th>artist pop</th>\n      <th>track pop</th>\n      <th>duration</th>\n      <th>danceability</th>\n      <th>energy</th>\n      <th>loudness</th>\n      <th>speechiness</th>\n      <th>acousticness</th>\n      <th>instrumentalness</th>\n      <th>liveness</th>\n      <th>valence</th>\n      <th>tempo</th>\n      <th>year</th>\n      <th>new genre_other</th>\n      <th>new genre_pop</th>\n      <th>new genre_rap</th>\n    </tr>\n  </thead>\n  <tbody>\n    <tr>\n      <th>Average</th>\n      <td>0.692043</td>\n      <td>0.662159</td>\n      <td>0.423539</td>\n      <td>0.652978</td>\n      <td>0.395312</td>\n      <td>0.509461</td>\n      <td>0.345078</td>\n      <td>0.19043</td>\n      <td>0.01732</td>\n      <td>0.209487</td>\n      <td>0.414427</td>\n      <td>0.447205</td>\n      <td>0.702143</td>\n      <td>0.32</td>\n      <td>0.02</td>\n      <td>0.29</td>\n    </tr>\n  </tbody>\n</table>\n</div>"
     },
     "execution_count": 44,
     "metadata": {},
     "output_type": "execute_result"
    }
   ],
   "source": [
    "column_averages = scaled_playlist.mean()\n",
    "averages_cosine_sim = pd.DataFrame([column_averages], index=['Average'])\n",
    "averages_cosine_sim"
   ],
   "metadata": {
    "collapsed": false,
    "ExecuteTime": {
     "end_time": "2024-06-01T09:38:49.834036900Z",
     "start_time": "2024-06-01T09:38:49.735299700Z"
    }
   },
   "id": "ddd6ae4093166f13",
   "execution_count": 44
  },
  {
   "cell_type": "markdown",
   "source": [
    "# Synchronizacja kolumn"
   ],
   "metadata": {
    "collapsed": false
   },
   "id": "d5ee21e91443fac"
  },
  {
   "cell_type": "code",
   "outputs": [],
   "source": [
    "def synchronize_columns(df1, df2):\n",
    "    missing_in_df2 = set(df1.columns) - set(df2.columns)\n",
    "    missing_in_df1 = set(df2.columns) - set(df1.columns)\n",
    "    \n",
    "    for col in missing_in_df2:\n",
    "        df2[col] = 0\n",
    "        \n",
    "    for col in missing_in_df1:\n",
    "        df1[col] = 0\n",
    "        \n",
    "    df1 = df1[sorted(df1.columns)]\n",
    "    df2 = df2[sorted(df2.columns)]\n",
    "    \n",
    "    return df1, df2"
   ],
   "metadata": {
    "collapsed": false,
    "ExecuteTime": {
     "end_time": "2024-06-01T09:38:56.723759300Z",
     "start_time": "2024-06-01T09:38:56.698828500Z"
    }
   },
   "id": "5df72737bb4bf53c",
   "execution_count": 45
  },
  {
   "cell_type": "code",
   "outputs": [],
   "source": [
    "synchronize_columns(spotify_data_scaled, averages_cosine_sim)\n",
    "averages_cosine_sim = averages_cosine_sim.sort_index(axis=1)\n",
    "spotify_data_scaled = spotify_data_scaled.sort_index(axis=1)"
   ],
   "metadata": {
    "collapsed": false,
    "ExecuteTime": {
     "end_time": "2024-06-01T09:38:57.698152300Z",
     "start_time": "2024-06-01T09:38:57.668236100Z"
    }
   },
   "id": "3dafc3c5981255e1",
   "execution_count": 46
  },
  {
   "cell_type": "code",
   "outputs": [
    {
     "data": {
      "text/plain": "         acousticness  artist pop  danceability  duration    energy  \\\nAverage       0.19043    0.692043      0.652978  0.423539  0.395312   \n\n         instrumentalness  liveness  loudness  new genre_classical  \\\nAverage           0.01732  0.209487  0.509461                    0   \n\n         new genre_dance  ...  new genre_other  new genre_pop  new genre_rap  \\\nAverage                0  ...             0.32           0.02           0.29   \n\n         new genre_rock  new genre_soul  speechiness     tempo  track pop  \\\nAverage               0               0     0.345078  0.447205   0.662159   \n\n          valence      year  \nAverage  0.414427  0.702143  \n\n[1 rows x 25 columns]",
      "text/html": "<div>\n<style scoped>\n    .dataframe tbody tr th:only-of-type {\n        vertical-align: middle;\n    }\n\n    .dataframe tbody tr th {\n        vertical-align: top;\n    }\n\n    .dataframe thead th {\n        text-align: right;\n    }\n</style>\n<table border=\"1\" class=\"dataframe\">\n  <thead>\n    <tr style=\"text-align: right;\">\n      <th></th>\n      <th>acousticness</th>\n      <th>artist pop</th>\n      <th>danceability</th>\n      <th>duration</th>\n      <th>energy</th>\n      <th>instrumentalness</th>\n      <th>liveness</th>\n      <th>loudness</th>\n      <th>new genre_classical</th>\n      <th>new genre_dance</th>\n      <th>...</th>\n      <th>new genre_other</th>\n      <th>new genre_pop</th>\n      <th>new genre_rap</th>\n      <th>new genre_rock</th>\n      <th>new genre_soul</th>\n      <th>speechiness</th>\n      <th>tempo</th>\n      <th>track pop</th>\n      <th>valence</th>\n      <th>year</th>\n    </tr>\n  </thead>\n  <tbody>\n    <tr>\n      <th>Average</th>\n      <td>0.19043</td>\n      <td>0.692043</td>\n      <td>0.652978</td>\n      <td>0.423539</td>\n      <td>0.395312</td>\n      <td>0.01732</td>\n      <td>0.209487</td>\n      <td>0.509461</td>\n      <td>0</td>\n      <td>0</td>\n      <td>...</td>\n      <td>0.32</td>\n      <td>0.02</td>\n      <td>0.29</td>\n      <td>0</td>\n      <td>0</td>\n      <td>0.345078</td>\n      <td>0.447205</td>\n      <td>0.662159</td>\n      <td>0.414427</td>\n      <td>0.702143</td>\n    </tr>\n  </tbody>\n</table>\n<p>1 rows × 25 columns</p>\n</div>"
     },
     "execution_count": 48,
     "metadata": {},
     "output_type": "execute_result"
    }
   ],
   "source": [
    "averages_cosine_sim"
   ],
   "metadata": {
    "collapsed": false,
    "ExecuteTime": {
     "end_time": "2024-06-01T09:42:48.692360900Z",
     "start_time": "2024-06-01T09:42:48.601607900Z"
    }
   },
   "id": "3ed640e328d10f48",
   "execution_count": 48
  },
  {
   "cell_type": "markdown",
   "source": [
    "# Rekomendacja nowych 20 piosenek "
   ],
   "metadata": {
    "collapsed": false
   },
   "id": "72b2429efa356741"
  },
  {
   "cell_type": "code",
   "outputs": [
    {
     "data": {
      "text/plain": "                            track                artist_x  similarity_score\n1086                      Starboy              The Weeknd          0.940790\n1131                   SICKO MODE            Travis Scott          0.935822\n1455             I Feel It Coming              The Weeknd          0.930468\n2015  Wasted (feat. Lil Uzi Vert)              Juice WRLD          0.929872\n1375                  Die For You              The Weeknd          0.928569\n617                    Rhyme Dust                      MK          0.927913\n1998        Still Think About You  A Boogie Wit da Hoodie          0.926612\n2000               Jocelyn Flores            XXXTENTACION          0.926083\n546                         Pedro                  Jaxomy          0.925779\n1960                      WAKE UP            Travis Scott          0.925573\n1590                  Say My Name            David Guetta          0.924533\n135                     Firestone                    Kygo          0.924350\n1939                   Heart Mind             Kodak Black          0.924125\n1543                   No Diggity             Blackstreet          0.924099\n567                         Pepas                 Farruko          0.922744\n589                         10:35                  Tiësto          0.922696\n1454           Can't Feel My Face              The Weeknd          0.922669\n643                     Esta Vida              Marshmello          0.921572\n579                   El Merengue              Marshmello          0.921310\n237     Otra vez (feat. J Balvin)           Zion & Lennox          0.921019",
      "text/html": "<div>\n<style scoped>\n    .dataframe tbody tr th:only-of-type {\n        vertical-align: middle;\n    }\n\n    .dataframe tbody tr th {\n        vertical-align: top;\n    }\n\n    .dataframe thead th {\n        text-align: right;\n    }\n</style>\n<table border=\"1\" class=\"dataframe\">\n  <thead>\n    <tr style=\"text-align: right;\">\n      <th></th>\n      <th>track</th>\n      <th>artist_x</th>\n      <th>similarity_score</th>\n    </tr>\n  </thead>\n  <tbody>\n    <tr>\n      <th>1086</th>\n      <td>Starboy</td>\n      <td>The Weeknd</td>\n      <td>0.940790</td>\n    </tr>\n    <tr>\n      <th>1131</th>\n      <td>SICKO MODE</td>\n      <td>Travis Scott</td>\n      <td>0.935822</td>\n    </tr>\n    <tr>\n      <th>1455</th>\n      <td>I Feel It Coming</td>\n      <td>The Weeknd</td>\n      <td>0.930468</td>\n    </tr>\n    <tr>\n      <th>2015</th>\n      <td>Wasted (feat. Lil Uzi Vert)</td>\n      <td>Juice WRLD</td>\n      <td>0.929872</td>\n    </tr>\n    <tr>\n      <th>1375</th>\n      <td>Die For You</td>\n      <td>The Weeknd</td>\n      <td>0.928569</td>\n    </tr>\n    <tr>\n      <th>617</th>\n      <td>Rhyme Dust</td>\n      <td>MK</td>\n      <td>0.927913</td>\n    </tr>\n    <tr>\n      <th>1998</th>\n      <td>Still Think About You</td>\n      <td>A Boogie Wit da Hoodie</td>\n      <td>0.926612</td>\n    </tr>\n    <tr>\n      <th>2000</th>\n      <td>Jocelyn Flores</td>\n      <td>XXXTENTACION</td>\n      <td>0.926083</td>\n    </tr>\n    <tr>\n      <th>546</th>\n      <td>Pedro</td>\n      <td>Jaxomy</td>\n      <td>0.925779</td>\n    </tr>\n    <tr>\n      <th>1960</th>\n      <td>WAKE UP</td>\n      <td>Travis Scott</td>\n      <td>0.925573</td>\n    </tr>\n    <tr>\n      <th>1590</th>\n      <td>Say My Name</td>\n      <td>David Guetta</td>\n      <td>0.924533</td>\n    </tr>\n    <tr>\n      <th>135</th>\n      <td>Firestone</td>\n      <td>Kygo</td>\n      <td>0.924350</td>\n    </tr>\n    <tr>\n      <th>1939</th>\n      <td>Heart Mind</td>\n      <td>Kodak Black</td>\n      <td>0.924125</td>\n    </tr>\n    <tr>\n      <th>1543</th>\n      <td>No Diggity</td>\n      <td>Blackstreet</td>\n      <td>0.924099</td>\n    </tr>\n    <tr>\n      <th>567</th>\n      <td>Pepas</td>\n      <td>Farruko</td>\n      <td>0.922744</td>\n    </tr>\n    <tr>\n      <th>589</th>\n      <td>10:35</td>\n      <td>Tiësto</td>\n      <td>0.922696</td>\n    </tr>\n    <tr>\n      <th>1454</th>\n      <td>Can't Feel My Face</td>\n      <td>The Weeknd</td>\n      <td>0.922669</td>\n    </tr>\n    <tr>\n      <th>643</th>\n      <td>Esta Vida</td>\n      <td>Marshmello</td>\n      <td>0.921572</td>\n    </tr>\n    <tr>\n      <th>579</th>\n      <td>El Merengue</td>\n      <td>Marshmello</td>\n      <td>0.921310</td>\n    </tr>\n    <tr>\n      <th>237</th>\n      <td>Otra vez (feat. J Balvin)</td>\n      <td>Zion &amp; Lennox</td>\n      <td>0.921019</td>\n    </tr>\n  </tbody>\n</table>\n</div>"
     },
     "execution_count": 47,
     "metadata": {},
     "output_type": "execute_result"
    }
   ],
   "source": [
    "from sklearn.metrics.pairwise import cosine_similarity\n",
    "\n",
    "similarity_scores = cosine_similarity(spotify_data_scaled, averages_cosine_sim)\n",
    " \n",
    "spotify_data['similarity_score'] = similarity_scores\n",
    " \n",
    "new_frame = pd.merge(spotify_data, playlist, how='left', on='track')\n",
    "top_similarities_filtered = new_frame[new_frame.isna().any(axis=1)]\n",
    "top_similarities_filtered = top_similarities_filtered.sort_values(by='similarity_score', ascending=False)\n",
    "top_similarities_filtered = top_similarities_filtered.drop_duplicates(subset=['track', 'artist_x'])\n",
    "top_similarities_filtered[['track', 'artist_x', 'similarity_score']].head(20)\n"
   ],
   "metadata": {
    "collapsed": false,
    "ExecuteTime": {
     "end_time": "2024-06-01T09:38:59.920210300Z",
     "start_time": "2024-06-01T09:38:59.838429700Z"
    }
   },
   "id": "7464010d34d64475",
   "execution_count": 47
  },
  {
   "cell_type": "code",
   "outputs": [],
   "source": [],
   "metadata": {
    "collapsed": false
   },
   "id": "dfb5d9cfd1128c25"
  },
  {
   "cell_type": "markdown",
   "source": [
    "# 2 wersja"
   ],
   "metadata": {
    "collapsed": false
   },
   "id": "ff7244cc166c27a9"
  },
  {
   "cell_type": "code",
   "outputs": [],
   "source": [],
   "metadata": {
    "collapsed": false
   },
   "id": "940e9e2394cb175f"
  }
 ],
 "metadata": {
  "kernelspec": {
   "display_name": "Python 3",
   "language": "python",
   "name": "python3"
  },
  "language_info": {
   "codemirror_mode": {
    "name": "ipython",
    "version": 2
   },
   "file_extension": ".py",
   "mimetype": "text/x-python",
   "name": "python",
   "nbconvert_exporter": "python",
   "pygments_lexer": "ipython2",
   "version": "2.7.6"
  }
 },
 "nbformat": 4,
 "nbformat_minor": 5
}
